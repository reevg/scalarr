{
 "cells": [
  {
   "cell_type": "markdown",
   "metadata": {},
   "source": [
    "<h2><center>Описание</center></h2>"
   ]
  },
  {
   "cell_type": "markdown",
   "metadata": {},
   "source": [
    "Документ Data_2 содержит следующие столбцы:\n",
    "- appsflyer_id - уникальный идентификатор установки (юзера). Так же соответствует последующей внутриигровой активности данного юзера\n",
    "- media_source - источник (рекламная сеть), который привлек юзера в игру\n",
    "- site_id - подисточник внутри источника (media_source), который привлек юзера в игру\n",
    "- campaign - наименование рекламной компании\n",
    "- event_name - наименование внутриигрового ивента, выполненного юзером.\n",
    "- event_name имеет следующие значения: \n",
    " - event_name=install - факт установки\n",
    " - level_reached_3 - достижение юзером 3-го уровня в игре\n",
    " - level_reached_5 - достижение юзером 5-го уровня в игре\n",
    " - NPU - факт внутриигровой покупки юзером.\n"
   ]
  },
  {
   "cell_type": "markdown",
   "metadata": {},
   "source": [
    "<h2><center>Задание</center></h2>"
   ]
  },
  {
   "cell_type": "markdown",
   "metadata": {},
   "source": [
    "Необходимо: \n",
    "- сделать агрегированную таблицу по пост-инстальной активности юзеров в следующей группировке когорт: media_source/site_id/campaign. \n",
    "- После чего, отметьте те когорты (media_source/site_id/campaign), которые по вашему мнению являются фродовыми (имеют явные аномалии в пост-инстальной активности от остальных когорт). Обоснуйте ваше решение.\n"
   ]
  },
  {
   "cell_type": "code",
   "execution_count": 1,
   "metadata": {},
   "outputs": [],
   "source": [
    "import pandas as pd\n",
    "import numpy as np\n",
    "import datetime as dt"
   ]
  },
  {
   "cell_type": "code",
   "execution_count": 2,
   "metadata": {},
   "outputs": [
    {
     "data": {
      "text/html": [
       "<div>\n",
       "<style scoped>\n",
       "    .dataframe tbody tr th:only-of-type {\n",
       "        vertical-align: middle;\n",
       "    }\n",
       "\n",
       "    .dataframe tbody tr th {\n",
       "        vertical-align: top;\n",
       "    }\n",
       "\n",
       "    .dataframe thead th {\n",
       "        text-align: right;\n",
       "    }\n",
       "</style>\n",
       "<table border=\"1\" class=\"dataframe\">\n",
       "  <thead>\n",
       "    <tr style=\"text-align: right;\">\n",
       "      <th></th>\n",
       "      <th>appsflyer_id</th>\n",
       "      <th>media_source</th>\n",
       "      <th>site_id</th>\n",
       "      <th>campaign</th>\n",
       "      <th>event_name</th>\n",
       "    </tr>\n",
       "  </thead>\n",
       "  <tbody>\n",
       "    <tr>\n",
       "      <td>0</td>\n",
       "      <td>1544397823113-6896177808779237826</td>\n",
       "      <td>Adstarter</td>\n",
       "      <td>JohnyHand</td>\n",
       "      <td>Playcom_DE_w1</td>\n",
       "      <td>install</td>\n",
       "    </tr>\n",
       "    <tr>\n",
       "      <td>1</td>\n",
       "      <td>1544397823113-6896177808779237826</td>\n",
       "      <td>Adstarter</td>\n",
       "      <td>JohnyHand</td>\n",
       "      <td>Playcom_DE_w1</td>\n",
       "      <td>level_reached_3</td>\n",
       "    </tr>\n",
       "    <tr>\n",
       "      <td>2</td>\n",
       "      <td>1544397823113-6896177808779237826</td>\n",
       "      <td>Adstarter</td>\n",
       "      <td>JohnyHand</td>\n",
       "      <td>Playcom_DE_w1</td>\n",
       "      <td>level_reached_3</td>\n",
       "    </tr>\n",
       "    <tr>\n",
       "      <td>3</td>\n",
       "      <td>1544397823113-6896177808779237826</td>\n",
       "      <td>Adstarter</td>\n",
       "      <td>JohnyHand</td>\n",
       "      <td>Playcom_DE_w1</td>\n",
       "      <td>level_reached_5</td>\n",
       "    </tr>\n",
       "    <tr>\n",
       "      <td>4</td>\n",
       "      <td>1544397823113-6896177808779237826</td>\n",
       "      <td>Adstarter</td>\n",
       "      <td>JohnyHand</td>\n",
       "      <td>Playcom_DE_w1</td>\n",
       "      <td>level_reached_5</td>\n",
       "    </tr>\n",
       "  </tbody>\n",
       "</table>\n",
       "</div>"
      ],
      "text/plain": [
       "                        appsflyer_id media_source    site_id       campaign  \\\n",
       "0  1544397823113-6896177808779237826    Adstarter  JohnyHand  Playcom_DE_w1   \n",
       "1  1544397823113-6896177808779237826    Adstarter  JohnyHand  Playcom_DE_w1   \n",
       "2  1544397823113-6896177808779237826    Adstarter  JohnyHand  Playcom_DE_w1   \n",
       "3  1544397823113-6896177808779237826    Adstarter  JohnyHand  Playcom_DE_w1   \n",
       "4  1544397823113-6896177808779237826    Adstarter  JohnyHand  Playcom_DE_w1   \n",
       "\n",
       "        event_name  \n",
       "0          install  \n",
       "1  level_reached_3  \n",
       "2  level_reached_3  \n",
       "3  level_reached_5  \n",
       "4  level_reached_5  "
      ]
     },
     "execution_count": 2,
     "metadata": {},
     "output_type": "execute_result"
    }
   ],
   "source": [
    "#Читаем данные\n",
    "data2 = pd.read_excel(\"Data_2 (+).xlsx\") #, index_col = 'appsflyer_id'\n",
    "data2.head()"
   ]
  },
  {
   "cell_type": "code",
   "execution_count": 3,
   "metadata": {},
   "outputs": [
    {
     "data": {
      "text/plain": [
       "28441"
      ]
     },
     "execution_count": 3,
     "metadata": {},
     "output_type": "execute_result"
    }
   ],
   "source": [
    "#Количество уникальных id\n",
    "data2.appsflyer_id.nunique()"
   ]
  },
  {
   "cell_type": "code",
   "execution_count": 4,
   "metadata": {},
   "outputs": [],
   "source": [
    "#Разбиваем категориальные столбец event_name с категориальными переменными на 4 столбца\n",
    "categorial_transform = pd.get_dummies(data2.event_name)\n",
    "data2_categor = data2.join(categorial_transform)"
   ]
  },
  {
   "cell_type": "code",
   "execution_count": 5,
   "metadata": {},
   "outputs": [
    {
     "data": {
      "text/html": [
       "<div>\n",
       "<style scoped>\n",
       "    .dataframe tbody tr th:only-of-type {\n",
       "        vertical-align: middle;\n",
       "    }\n",
       "\n",
       "    .dataframe tbody tr th {\n",
       "        vertical-align: top;\n",
       "    }\n",
       "\n",
       "    .dataframe thead th {\n",
       "        text-align: right;\n",
       "    }\n",
       "</style>\n",
       "<table border=\"1\" class=\"dataframe\">\n",
       "  <thead>\n",
       "    <tr style=\"text-align: right;\">\n",
       "      <th></th>\n",
       "      <th>appsflyer_id</th>\n",
       "      <th>media_source</th>\n",
       "      <th>site_id</th>\n",
       "      <th>campaign</th>\n",
       "      <th>event_name</th>\n",
       "      <th>NPU</th>\n",
       "      <th>install</th>\n",
       "      <th>level_reached_3</th>\n",
       "      <th>level_reached_5</th>\n",
       "    </tr>\n",
       "  </thead>\n",
       "  <tbody>\n",
       "    <tr>\n",
       "      <td>0</td>\n",
       "      <td>1544397823113-6896177808779237826</td>\n",
       "      <td>Adstarter</td>\n",
       "      <td>JohnyHand</td>\n",
       "      <td>Playcom_DE_w1</td>\n",
       "      <td>install</td>\n",
       "      <td>0</td>\n",
       "      <td>1</td>\n",
       "      <td>0</td>\n",
       "      <td>0</td>\n",
       "    </tr>\n",
       "    <tr>\n",
       "      <td>1</td>\n",
       "      <td>1544397823113-6896177808779237826</td>\n",
       "      <td>Adstarter</td>\n",
       "      <td>JohnyHand</td>\n",
       "      <td>Playcom_DE_w1</td>\n",
       "      <td>level_reached_3</td>\n",
       "      <td>0</td>\n",
       "      <td>0</td>\n",
       "      <td>1</td>\n",
       "      <td>0</td>\n",
       "    </tr>\n",
       "    <tr>\n",
       "      <td>2</td>\n",
       "      <td>1544397823113-6896177808779237826</td>\n",
       "      <td>Adstarter</td>\n",
       "      <td>JohnyHand</td>\n",
       "      <td>Playcom_DE_w1</td>\n",
       "      <td>level_reached_3</td>\n",
       "      <td>0</td>\n",
       "      <td>0</td>\n",
       "      <td>1</td>\n",
       "      <td>0</td>\n",
       "    </tr>\n",
       "    <tr>\n",
       "      <td>3</td>\n",
       "      <td>1544397823113-6896177808779237826</td>\n",
       "      <td>Adstarter</td>\n",
       "      <td>JohnyHand</td>\n",
       "      <td>Playcom_DE_w1</td>\n",
       "      <td>level_reached_5</td>\n",
       "      <td>0</td>\n",
       "      <td>0</td>\n",
       "      <td>0</td>\n",
       "      <td>1</td>\n",
       "    </tr>\n",
       "    <tr>\n",
       "      <td>4</td>\n",
       "      <td>1544397823113-6896177808779237826</td>\n",
       "      <td>Adstarter</td>\n",
       "      <td>JohnyHand</td>\n",
       "      <td>Playcom_DE_w1</td>\n",
       "      <td>level_reached_5</td>\n",
       "      <td>0</td>\n",
       "      <td>0</td>\n",
       "      <td>0</td>\n",
       "      <td>1</td>\n",
       "    </tr>\n",
       "  </tbody>\n",
       "</table>\n",
       "</div>"
      ],
      "text/plain": [
       "                        appsflyer_id media_source    site_id       campaign  \\\n",
       "0  1544397823113-6896177808779237826    Adstarter  JohnyHand  Playcom_DE_w1   \n",
       "1  1544397823113-6896177808779237826    Adstarter  JohnyHand  Playcom_DE_w1   \n",
       "2  1544397823113-6896177808779237826    Adstarter  JohnyHand  Playcom_DE_w1   \n",
       "3  1544397823113-6896177808779237826    Adstarter  JohnyHand  Playcom_DE_w1   \n",
       "4  1544397823113-6896177808779237826    Adstarter  JohnyHand  Playcom_DE_w1   \n",
       "\n",
       "        event_name  NPU  install  level_reached_3  level_reached_5  \n",
       "0          install    0        1                0                0  \n",
       "1  level_reached_3    0        0                1                0  \n",
       "2  level_reached_3    0        0                1                0  \n",
       "3  level_reached_5    0        0                0                1  \n",
       "4  level_reached_5    0        0                0                1  "
      ]
     },
     "execution_count": 5,
     "metadata": {},
     "output_type": "execute_result"
    }
   ],
   "source": [
    "data2_categor.head()"
   ]
  },
  {
   "cell_type": "code",
   "execution_count": 6,
   "metadata": {},
   "outputs": [],
   "source": [
    "#Дропаем уже ненужные колонки\n",
    "data2_categor = data2_categor.drop(columns = ['install', 'event_name'])"
   ]
  },
  {
   "cell_type": "code",
   "execution_count": 7,
   "metadata": {},
   "outputs": [
    {
     "name": "stdout",
     "output_type": "stream",
     "text": [
      "appsflyer_id : 1544435958204-2089237758916941886    12\n",
      "1543693314732-504493412527213586     10\n",
      "1544304786783-6829099661148205457     9\n",
      "1544354480490-5821100190665676137     9\n",
      "1544063804561-1359376720427988207     9\n",
      "                                     ..\n",
      "1544414826343-1747820022032084568     1\n",
      "1543992301980-4585771934105313953     1\n",
      "1544258307047-4461982167482004234     1\n",
      "1544288949741-3460397067887145479     1\n",
      "1544373426391-8595064917503060452     1\n",
      "Name: appsflyer_id, Length: 28441, dtype: int64\n",
      "--------------------\n",
      "media_source : Crossfaith    63442\n",
      "Adstarter      5901\n",
      "Name: media_source, dtype: int64\n",
      "--------------------\n",
      "site_id : Distortion_1887_24598                               1959\n",
      "Estrada                                             1903\n",
      "NexxuzHD                                            1729\n",
      "Rosenborg_109065_40356                              1524\n",
      "BigTacty_69708                                      1517\n",
      "                                                    ... \n",
      "Estrada__855-02c4308c0d6d10dde262c6d300174010a         1\n",
      "Starset_89_41_23894                                    1\n",
      "Estrada__105097                                        1\n",
      "Starset_83_p1149_107796                                1\n",
      "Distortion_1992_55-222_1026803307676438528_9947T       1\n",
      "Name: site_id, Length: 2298, dtype: int64\n",
      "--------------------\n",
      "campaign : WR_And_US_CPA     21936\n",
      "WR_And_ID_CPA      8881\n",
      "WR_And_TH_CPA      7615\n",
      "WR_And_MY_CPA      5126\n",
      "WR_And_RU_CPA      4900\n",
      "WR_And_JP_CPA      4013\n",
      "WR_And_KR_CPA      3794\n",
      "Playcom_ES_w1      2316\n",
      "WR_And_TW_CPA      2065\n",
      "Playcom_IT_w1      1615\n",
      "WR_And_AR_CPA      1479\n",
      "WR_And_MX_CPA      1368\n",
      "WR_And_BR_CPA      1101\n",
      "WR_And_PH_CPA       896\n",
      "Playcom_US_w10      848\n",
      "Playcom_US_w13      528\n",
      "Playcom_US_w11      275\n",
      "Playcom_US_w12      182\n",
      "WR_And_HK_CPA       125\n",
      "Playcom_DE_w2       119\n",
      "WR_And_CA_CPA       116\n",
      "WR_And_AU_CPA        27\n",
      "Playcom_DE_w1        18\n",
      "Name: campaign, dtype: int64\n",
      "--------------------\n",
      "NPU : 0    68861\n",
      "1      482\n",
      "Name: NPU, dtype: int64\n",
      "--------------------\n",
      "level_reached_3 : 0    47510\n",
      "1    21833\n",
      "Name: level_reached_3, dtype: int64\n",
      "--------------------\n",
      "level_reached_5 : 0    50754\n",
      "1    18589\n",
      "Name: level_reached_5, dtype: int64\n",
      "--------------------\n"
     ]
    }
   ],
   "source": [
    "#Смотрим что у нас по значениям в каждом столбце\n",
    "for column in data2_categor.columns:\n",
    "    print(column, \":\", data2_categor[column].value_counts())\n",
    "    print('-'*20)"
   ]
  },
  {
   "cell_type": "code",
   "execution_count": 8,
   "metadata": {},
   "outputs": [
    {
     "data": {
      "text/plain": [
       "Crossfaith    63442\n",
       "Adstarter      5901\n",
       "Name: media_source, dtype: int64"
      ]
     },
     "execution_count": 8,
     "metadata": {},
     "output_type": "execute_result"
    }
   ],
   "source": [
    "data2_categor['media_source'].value_counts()"
   ]
  },
  {
   "cell_type": "code",
   "execution_count": 9,
   "metadata": {},
   "outputs": [
    {
     "name": "stdout",
     "output_type": "stream",
     "text": [
      "<class 'pandas.core.frame.DataFrame'>\n",
      "RangeIndex: 69343 entries, 0 to 69342\n",
      "Data columns (total 7 columns):\n",
      "appsflyer_id       69343 non-null object\n",
      "media_source       69343 non-null object\n",
      "site_id            69343 non-null object\n",
      "campaign           69343 non-null object\n",
      "NPU                69343 non-null uint8\n",
      "level_reached_3    69343 non-null uint8\n",
      "level_reached_5    69343 non-null uint8\n",
      "dtypes: object(4), uint8(3)\n",
      "memory usage: 2.3+ MB\n"
     ]
    }
   ],
   "source": [
    "data2_categor.info()"
   ]
  },
  {
   "cell_type": "code",
   "execution_count": 10,
   "metadata": {},
   "outputs": [
    {
     "data": {
      "text/html": [
       "<div>\n",
       "<style scoped>\n",
       "    .dataframe tbody tr th:only-of-type {\n",
       "        vertical-align: middle;\n",
       "    }\n",
       "\n",
       "    .dataframe tbody tr th {\n",
       "        vertical-align: top;\n",
       "    }\n",
       "\n",
       "    .dataframe thead th {\n",
       "        text-align: right;\n",
       "    }\n",
       "</style>\n",
       "<table border=\"1\" class=\"dataframe\">\n",
       "  <thead>\n",
       "    <tr style=\"text-align: right;\">\n",
       "      <th></th>\n",
       "      <th>NPU</th>\n",
       "      <th>level_reached_3</th>\n",
       "      <th>level_reached_5</th>\n",
       "    </tr>\n",
       "  </thead>\n",
       "  <tbody>\n",
       "    <tr>\n",
       "      <td>count</td>\n",
       "      <td>69343.000000</td>\n",
       "      <td>69343.000000</td>\n",
       "      <td>69343.000000</td>\n",
       "    </tr>\n",
       "    <tr>\n",
       "      <td>mean</td>\n",
       "      <td>0.006951</td>\n",
       "      <td>0.314855</td>\n",
       "      <td>0.268073</td>\n",
       "    </tr>\n",
       "    <tr>\n",
       "      <td>std</td>\n",
       "      <td>0.083083</td>\n",
       "      <td>0.464462</td>\n",
       "      <td>0.442959</td>\n",
       "    </tr>\n",
       "    <tr>\n",
       "      <td>min</td>\n",
       "      <td>0.000000</td>\n",
       "      <td>0.000000</td>\n",
       "      <td>0.000000</td>\n",
       "    </tr>\n",
       "    <tr>\n",
       "      <td>25%</td>\n",
       "      <td>0.000000</td>\n",
       "      <td>0.000000</td>\n",
       "      <td>0.000000</td>\n",
       "    </tr>\n",
       "    <tr>\n",
       "      <td>50%</td>\n",
       "      <td>0.000000</td>\n",
       "      <td>0.000000</td>\n",
       "      <td>0.000000</td>\n",
       "    </tr>\n",
       "    <tr>\n",
       "      <td>75%</td>\n",
       "      <td>0.000000</td>\n",
       "      <td>1.000000</td>\n",
       "      <td>1.000000</td>\n",
       "    </tr>\n",
       "    <tr>\n",
       "      <td>max</td>\n",
       "      <td>1.000000</td>\n",
       "      <td>1.000000</td>\n",
       "      <td>1.000000</td>\n",
       "    </tr>\n",
       "  </tbody>\n",
       "</table>\n",
       "</div>"
      ],
      "text/plain": [
       "                NPU  level_reached_3  level_reached_5\n",
       "count  69343.000000     69343.000000     69343.000000\n",
       "mean       0.006951         0.314855         0.268073\n",
       "std        0.083083         0.464462         0.442959\n",
       "min        0.000000         0.000000         0.000000\n",
       "25%        0.000000         0.000000         0.000000\n",
       "50%        0.000000         0.000000         0.000000\n",
       "75%        0.000000         1.000000         1.000000\n",
       "max        1.000000         1.000000         1.000000"
      ]
     },
     "execution_count": 10,
     "metadata": {},
     "output_type": "execute_result"
    }
   ],
   "source": [
    "data2_categor.describe()"
   ]
  },
  {
   "cell_type": "code",
   "execution_count": 11,
   "metadata": {},
   "outputs": [
    {
     "data": {
      "text/plain": [
       "appsflyer_id       28441\n",
       "media_source           2\n",
       "site_id             2298\n",
       "campaign              23\n",
       "NPU                    2\n",
       "level_reached_3        2\n",
       "level_reached_5        2\n",
       "dtype: int64"
      ]
     },
     "execution_count": 11,
     "metadata": {},
     "output_type": "execute_result"
    }
   ],
   "source": [
    "data2_categor.nunique()"
   ]
  },
  {
   "cell_type": "markdown",
   "metadata": {},
   "source": [
    "\n",
    "<h2>Построим гистограммы количества совершённой активности пользователями в зависимости от принадлежности к тому или иному media_source</h2>"
   ]
  },
  {
   "cell_type": "markdown",
   "metadata": {},
   "source": [
    "Сделаем 2 таблицы\n",
    "data_group_media_more_0 - с пользователями, где указано, была ли у них хотя бы 1 активность одного из видов активности\n",
    "data_group_sum - с суммарной активностью по каждому виду для каждого пользователям\n",
    "А после - построим гистограммы с отношением активности к общему числу пользователей"
   ]
  },
  {
   "cell_type": "code",
   "execution_count": 12,
   "metadata": {},
   "outputs": [],
   "source": [
    "#Групируем по media_source и id, считаем сумму всех NPU, level_reached_3, level_reached_5 для каждого из id\n",
    "data_group_media = data2_categor.groupby(['media_source', 'appsflyer_id'])\\\n",
    ".aggregate({'NPU': 'sum', 'level_reached_3': 'sum', 'level_reached_5':'sum'})"
   ]
  },
  {
   "cell_type": "code",
   "execution_count": 13,
   "metadata": {},
   "outputs": [
    {
     "data": {
      "text/html": [
       "<div>\n",
       "<style scoped>\n",
       "    .dataframe tbody tr th:only-of-type {\n",
       "        vertical-align: middle;\n",
       "    }\n",
       "\n",
       "    .dataframe tbody tr th {\n",
       "        vertical-align: top;\n",
       "    }\n",
       "\n",
       "    .dataframe thead th {\n",
       "        text-align: right;\n",
       "    }\n",
       "</style>\n",
       "<table border=\"1\" class=\"dataframe\">\n",
       "  <thead>\n",
       "    <tr style=\"text-align: right;\">\n",
       "      <th></th>\n",
       "      <th></th>\n",
       "      <th>NPU</th>\n",
       "      <th>level_reached_3</th>\n",
       "      <th>level_reached_5</th>\n",
       "    </tr>\n",
       "    <tr>\n",
       "      <th>media_source</th>\n",
       "      <th>appsflyer_id</th>\n",
       "      <th></th>\n",
       "      <th></th>\n",
       "      <th></th>\n",
       "    </tr>\n",
       "  </thead>\n",
       "  <tbody>\n",
       "    <tr>\n",
       "      <td rowspan=\"5\" valign=\"top\">Adstarter</td>\n",
       "      <td>1543127984528-6940691891530490548</td>\n",
       "      <td>0</td>\n",
       "      <td>0</td>\n",
       "      <td>0</td>\n",
       "    </tr>\n",
       "    <tr>\n",
       "      <td>1543531503450-1251015439893629029</td>\n",
       "      <td>0</td>\n",
       "      <td>0</td>\n",
       "      <td>0</td>\n",
       "    </tr>\n",
       "    <tr>\n",
       "      <td>1543615592373-3385887950166968577</td>\n",
       "      <td>0</td>\n",
       "      <td>2</td>\n",
       "      <td>2</td>\n",
       "    </tr>\n",
       "    <tr>\n",
       "      <td>1543618281886-4076348101088745884</td>\n",
       "      <td>0</td>\n",
       "      <td>1</td>\n",
       "      <td>1</td>\n",
       "    </tr>\n",
       "    <tr>\n",
       "      <td>1543625244036-5332934591899282871</td>\n",
       "      <td>0</td>\n",
       "      <td>0</td>\n",
       "      <td>0</td>\n",
       "    </tr>\n",
       "    <tr>\n",
       "      <td>...</td>\n",
       "      <td>...</td>\n",
       "      <td>...</td>\n",
       "      <td>...</td>\n",
       "      <td>...</td>\n",
       "    </tr>\n",
       "    <tr>\n",
       "      <td rowspan=\"5\" valign=\"top\">Crossfaith</td>\n",
       "      <td>1546525436304-7290747470610023485</td>\n",
       "      <td>0</td>\n",
       "      <td>0</td>\n",
       "      <td>0</td>\n",
       "    </tr>\n",
       "    <tr>\n",
       "      <td>1547237344464-4158114377678420125</td>\n",
       "      <td>0</td>\n",
       "      <td>2</td>\n",
       "      <td>0</td>\n",
       "    </tr>\n",
       "    <tr>\n",
       "      <td>1547395987626-2574423648959027143</td>\n",
       "      <td>0</td>\n",
       "      <td>2</td>\n",
       "      <td>2</td>\n",
       "    </tr>\n",
       "    <tr>\n",
       "      <td>1547688430117-3130938844239942085</td>\n",
       "      <td>0</td>\n",
       "      <td>2</td>\n",
       "      <td>2</td>\n",
       "    </tr>\n",
       "    <tr>\n",
       "      <td>1619800928862-4768244534901173965</td>\n",
       "      <td>0</td>\n",
       "      <td>2</td>\n",
       "      <td>0</td>\n",
       "    </tr>\n",
       "  </tbody>\n",
       "</table>\n",
       "<p>28441 rows × 3 columns</p>\n",
       "</div>"
      ],
      "text/plain": [
       "                                                NPU  level_reached_3  \\\n",
       "media_source appsflyer_id                                              \n",
       "Adstarter    1543127984528-6940691891530490548    0                0   \n",
       "             1543531503450-1251015439893629029    0                0   \n",
       "             1543615592373-3385887950166968577    0                2   \n",
       "             1543618281886-4076348101088745884    0                1   \n",
       "             1543625244036-5332934591899282871    0                0   \n",
       "...                                             ...              ...   \n",
       "Crossfaith   1546525436304-7290747470610023485    0                0   \n",
       "             1547237344464-4158114377678420125    0                2   \n",
       "             1547395987626-2574423648959027143    0                2   \n",
       "             1547688430117-3130938844239942085    0                2   \n",
       "             1619800928862-4768244534901173965    0                2   \n",
       "\n",
       "                                                level_reached_5  \n",
       "media_source appsflyer_id                                        \n",
       "Adstarter    1543127984528-6940691891530490548                0  \n",
       "             1543531503450-1251015439893629029                0  \n",
       "             1543615592373-3385887950166968577                2  \n",
       "             1543618281886-4076348101088745884                1  \n",
       "             1543625244036-5332934591899282871                0  \n",
       "...                                                         ...  \n",
       "Crossfaith   1546525436304-7290747470610023485                0  \n",
       "             1547237344464-4158114377678420125                0  \n",
       "             1547395987626-2574423648959027143                2  \n",
       "             1547688430117-3130938844239942085                2  \n",
       "             1619800928862-4768244534901173965                0  \n",
       "\n",
       "[28441 rows x 3 columns]"
      ]
     },
     "execution_count": 13,
     "metadata": {},
     "output_type": "execute_result"
    }
   ],
   "source": [
    "data_group_media"
   ]
  },
  {
   "cell_type": "code",
   "execution_count": 14,
   "metadata": {},
   "outputs": [],
   "source": [
    "# data_group_media"
   ]
  },
  {
   "cell_type": "code",
   "execution_count": 15,
   "metadata": {},
   "outputs": [],
   "source": [
    "data_group_media_more_0 = pd.DataFrame()"
   ]
  },
  {
   "cell_type": "code",
   "execution_count": 16,
   "metadata": {},
   "outputs": [],
   "source": [
    "#столбцы с more_0 означают, что количество действий определённого события больше 0\n",
    "data_group_media_more_0['NPU_more_0'] = data_group_media['NPU'].apply(lambda x: int(x > 1))\n",
    "data_group_media_more_0['level_reached_3_more_0'] = data_group_media['level_reached_3'].apply(lambda x: int(x > 1))\n",
    "data_group_media_more_0['level_reached_5_more_0'] = data_group_media['level_reached_5'].apply(lambda x: int(x > 1))\n"
   ]
  },
  {
   "cell_type": "code",
   "execution_count": 17,
   "metadata": {},
   "outputs": [
    {
     "data": {
      "text/html": [
       "<div>\n",
       "<style scoped>\n",
       "    .dataframe tbody tr th:only-of-type {\n",
       "        vertical-align: middle;\n",
       "    }\n",
       "\n",
       "    .dataframe tbody tr th {\n",
       "        vertical-align: top;\n",
       "    }\n",
       "\n",
       "    .dataframe thead th {\n",
       "        text-align: right;\n",
       "    }\n",
       "</style>\n",
       "<table border=\"1\" class=\"dataframe\">\n",
       "  <thead>\n",
       "    <tr style=\"text-align: right;\">\n",
       "      <th></th>\n",
       "      <th></th>\n",
       "      <th>NPU_more_0</th>\n",
       "      <th>level_reached_3_more_0</th>\n",
       "      <th>level_reached_5_more_0</th>\n",
       "    </tr>\n",
       "    <tr>\n",
       "      <th>media_source</th>\n",
       "      <th>appsflyer_id</th>\n",
       "      <th></th>\n",
       "      <th></th>\n",
       "      <th></th>\n",
       "    </tr>\n",
       "  </thead>\n",
       "  <tbody>\n",
       "    <tr>\n",
       "      <td rowspan=\"5\" valign=\"top\">Adstarter</td>\n",
       "      <td>1543127984528-6940691891530490548</td>\n",
       "      <td>0</td>\n",
       "      <td>0</td>\n",
       "      <td>0</td>\n",
       "    </tr>\n",
       "    <tr>\n",
       "      <td>1543531503450-1251015439893629029</td>\n",
       "      <td>0</td>\n",
       "      <td>0</td>\n",
       "      <td>0</td>\n",
       "    </tr>\n",
       "    <tr>\n",
       "      <td>1543615592373-3385887950166968577</td>\n",
       "      <td>0</td>\n",
       "      <td>1</td>\n",
       "      <td>1</td>\n",
       "    </tr>\n",
       "    <tr>\n",
       "      <td>1543618281886-4076348101088745884</td>\n",
       "      <td>0</td>\n",
       "      <td>0</td>\n",
       "      <td>0</td>\n",
       "    </tr>\n",
       "    <tr>\n",
       "      <td>1543625244036-5332934591899282871</td>\n",
       "      <td>0</td>\n",
       "      <td>0</td>\n",
       "      <td>0</td>\n",
       "    </tr>\n",
       "    <tr>\n",
       "      <td>...</td>\n",
       "      <td>...</td>\n",
       "      <td>...</td>\n",
       "      <td>...</td>\n",
       "      <td>...</td>\n",
       "    </tr>\n",
       "    <tr>\n",
       "      <td rowspan=\"5\" valign=\"top\">Crossfaith</td>\n",
       "      <td>1546525436304-7290747470610023485</td>\n",
       "      <td>0</td>\n",
       "      <td>0</td>\n",
       "      <td>0</td>\n",
       "    </tr>\n",
       "    <tr>\n",
       "      <td>1547237344464-4158114377678420125</td>\n",
       "      <td>0</td>\n",
       "      <td>1</td>\n",
       "      <td>0</td>\n",
       "    </tr>\n",
       "    <tr>\n",
       "      <td>1547395987626-2574423648959027143</td>\n",
       "      <td>0</td>\n",
       "      <td>1</td>\n",
       "      <td>1</td>\n",
       "    </tr>\n",
       "    <tr>\n",
       "      <td>1547688430117-3130938844239942085</td>\n",
       "      <td>0</td>\n",
       "      <td>1</td>\n",
       "      <td>1</td>\n",
       "    </tr>\n",
       "    <tr>\n",
       "      <td>1619800928862-4768244534901173965</td>\n",
       "      <td>0</td>\n",
       "      <td>1</td>\n",
       "      <td>0</td>\n",
       "    </tr>\n",
       "  </tbody>\n",
       "</table>\n",
       "<p>28441 rows × 3 columns</p>\n",
       "</div>"
      ],
      "text/plain": [
       "                                                NPU_more_0  \\\n",
       "media_source appsflyer_id                                    \n",
       "Adstarter    1543127984528-6940691891530490548           0   \n",
       "             1543531503450-1251015439893629029           0   \n",
       "             1543615592373-3385887950166968577           0   \n",
       "             1543618281886-4076348101088745884           0   \n",
       "             1543625244036-5332934591899282871           0   \n",
       "...                                                    ...   \n",
       "Crossfaith   1546525436304-7290747470610023485           0   \n",
       "             1547237344464-4158114377678420125           0   \n",
       "             1547395987626-2574423648959027143           0   \n",
       "             1547688430117-3130938844239942085           0   \n",
       "             1619800928862-4768244534901173965           0   \n",
       "\n",
       "                                                level_reached_3_more_0  \\\n",
       "media_source appsflyer_id                                                \n",
       "Adstarter    1543127984528-6940691891530490548                       0   \n",
       "             1543531503450-1251015439893629029                       0   \n",
       "             1543615592373-3385887950166968577                       1   \n",
       "             1543618281886-4076348101088745884                       0   \n",
       "             1543625244036-5332934591899282871                       0   \n",
       "...                                                                ...   \n",
       "Crossfaith   1546525436304-7290747470610023485                       0   \n",
       "             1547237344464-4158114377678420125                       1   \n",
       "             1547395987626-2574423648959027143                       1   \n",
       "             1547688430117-3130938844239942085                       1   \n",
       "             1619800928862-4768244534901173965                       1   \n",
       "\n",
       "                                                level_reached_5_more_0  \n",
       "media_source appsflyer_id                                               \n",
       "Adstarter    1543127984528-6940691891530490548                       0  \n",
       "             1543531503450-1251015439893629029                       0  \n",
       "             1543615592373-3385887950166968577                       1  \n",
       "             1543618281886-4076348101088745884                       0  \n",
       "             1543625244036-5332934591899282871                       0  \n",
       "...                                                                ...  \n",
       "Crossfaith   1546525436304-7290747470610023485                       0  \n",
       "             1547237344464-4158114377678420125                       0  \n",
       "             1547395987626-2574423648959027143                       1  \n",
       "             1547688430117-3130938844239942085                       1  \n",
       "             1619800928862-4768244534901173965                       0  \n",
       "\n",
       "[28441 rows x 3 columns]"
      ]
     },
     "execution_count": 17,
     "metadata": {},
     "output_type": "execute_result"
    }
   ],
   "source": [
    "#Статистика по совершению хотя бы одного вида активности\n",
    "data_group_media_more_0"
   ]
  },
  {
   "cell_type": "code",
   "execution_count": 18,
   "metadata": {},
   "outputs": [],
   "source": [
    "num_adstarter_id = data_group_media_more_0.loc['Adstarter'].shape[0]\n",
    "num_crossfaith_id = data_group_media_more_0.loc['Crossfaith'].shape[0]"
   ]
  },
  {
   "cell_type": "code",
   "execution_count": 19,
   "metadata": {},
   "outputs": [
    {
     "data": {
      "text/plain": [
       "(2003, 26438)"
      ]
     },
     "execution_count": 19,
     "metadata": {},
     "output_type": "execute_result"
    }
   ],
   "source": [
    "#Количество уникальных id по media_source\n",
    "(num_adstarter_id, num_crossfaith_id)"
   ]
  },
  {
   "cell_type": "code",
   "execution_count": 20,
   "metadata": {},
   "outputs": [
    {
     "data": {
      "text/html": [
       "<div>\n",
       "<style scoped>\n",
       "    .dataframe tbody tr th:only-of-type {\n",
       "        vertical-align: middle;\n",
       "    }\n",
       "\n",
       "    .dataframe tbody tr th {\n",
       "        vertical-align: top;\n",
       "    }\n",
       "\n",
       "    .dataframe thead th {\n",
       "        text-align: right;\n",
       "    }\n",
       "</style>\n",
       "<table border=\"1\" class=\"dataframe\">\n",
       "  <thead>\n",
       "    <tr style=\"text-align: right;\">\n",
       "      <th></th>\n",
       "      <th>NPU_more_0</th>\n",
       "      <th>level_reached_3_more_0</th>\n",
       "      <th>level_reached_5_more_0</th>\n",
       "    </tr>\n",
       "  </thead>\n",
       "  <tbody>\n",
       "    <tr>\n",
       "      <td>count</td>\n",
       "      <td>28441.000000</td>\n",
       "      <td>28441.000000</td>\n",
       "      <td>28441.000000</td>\n",
       "    </tr>\n",
       "    <tr>\n",
       "      <td>mean</td>\n",
       "      <td>0.008122</td>\n",
       "      <td>0.290391</td>\n",
       "      <td>0.269470</td>\n",
       "    </tr>\n",
       "    <tr>\n",
       "      <td>std</td>\n",
       "      <td>0.089757</td>\n",
       "      <td>0.453951</td>\n",
       "      <td>0.443692</td>\n",
       "    </tr>\n",
       "    <tr>\n",
       "      <td>min</td>\n",
       "      <td>0.000000</td>\n",
       "      <td>0.000000</td>\n",
       "      <td>0.000000</td>\n",
       "    </tr>\n",
       "    <tr>\n",
       "      <td>25%</td>\n",
       "      <td>0.000000</td>\n",
       "      <td>0.000000</td>\n",
       "      <td>0.000000</td>\n",
       "    </tr>\n",
       "    <tr>\n",
       "      <td>50%</td>\n",
       "      <td>0.000000</td>\n",
       "      <td>0.000000</td>\n",
       "      <td>0.000000</td>\n",
       "    </tr>\n",
       "    <tr>\n",
       "      <td>75%</td>\n",
       "      <td>0.000000</td>\n",
       "      <td>1.000000</td>\n",
       "      <td>1.000000</td>\n",
       "    </tr>\n",
       "    <tr>\n",
       "      <td>max</td>\n",
       "      <td>1.000000</td>\n",
       "      <td>1.000000</td>\n",
       "      <td>1.000000</td>\n",
       "    </tr>\n",
       "  </tbody>\n",
       "</table>\n",
       "</div>"
      ],
      "text/plain": [
       "         NPU_more_0  level_reached_3_more_0  level_reached_5_more_0\n",
       "count  28441.000000            28441.000000            28441.000000\n",
       "mean       0.008122                0.290391                0.269470\n",
       "std        0.089757                0.453951                0.443692\n",
       "min        0.000000                0.000000                0.000000\n",
       "25%        0.000000                0.000000                0.000000\n",
       "50%        0.000000                0.000000                0.000000\n",
       "75%        0.000000                1.000000                1.000000\n",
       "max        1.000000                1.000000                1.000000"
      ]
     },
     "execution_count": 20,
     "metadata": {},
     "output_type": "execute_result"
    }
   ],
   "source": [
    "data_group_media_more_0.describe()"
   ]
  },
  {
   "cell_type": "code",
   "execution_count": 21,
   "metadata": {},
   "outputs": [],
   "source": [
    "more_0 = data_group_media_more_0.groupby(['media_source']).sum()"
   ]
  },
  {
   "cell_type": "code",
   "execution_count": 22,
   "metadata": {},
   "outputs": [],
   "source": [
    "more_0['num_unique_id'] = np.array([num_adstarter_id, num_crossfaith_id])"
   ]
  },
  {
   "cell_type": "code",
   "execution_count": 23,
   "metadata": {},
   "outputs": [
    {
     "data": {
      "text/html": [
       "<div>\n",
       "<style scoped>\n",
       "    .dataframe tbody tr th:only-of-type {\n",
       "        vertical-align: middle;\n",
       "    }\n",
       "\n",
       "    .dataframe tbody tr th {\n",
       "        vertical-align: top;\n",
       "    }\n",
       "\n",
       "    .dataframe thead th {\n",
       "        text-align: right;\n",
       "    }\n",
       "</style>\n",
       "<table border=\"1\" class=\"dataframe\">\n",
       "  <thead>\n",
       "    <tr style=\"text-align: right;\">\n",
       "      <th></th>\n",
       "      <th>NPU_more_0</th>\n",
       "      <th>level_reached_3_more_0</th>\n",
       "      <th>level_reached_5_more_0</th>\n",
       "      <th>num_unique_id</th>\n",
       "    </tr>\n",
       "    <tr>\n",
       "      <th>media_source</th>\n",
       "      <th></th>\n",
       "      <th></th>\n",
       "      <th></th>\n",
       "      <th></th>\n",
       "    </tr>\n",
       "  </thead>\n",
       "  <tbody>\n",
       "    <tr>\n",
       "      <td>Adstarter</td>\n",
       "      <td>13</td>\n",
       "      <td>738</td>\n",
       "      <td>803</td>\n",
       "      <td>2003</td>\n",
       "    </tr>\n",
       "    <tr>\n",
       "      <td>Crossfaith</td>\n",
       "      <td>218</td>\n",
       "      <td>7521</td>\n",
       "      <td>6861</td>\n",
       "      <td>26438</td>\n",
       "    </tr>\n",
       "  </tbody>\n",
       "</table>\n",
       "</div>"
      ],
      "text/plain": [
       "              NPU_more_0  level_reached_3_more_0  level_reached_5_more_0  \\\n",
       "media_source                                                               \n",
       "Adstarter             13                     738                     803   \n",
       "Crossfaith           218                    7521                    6861   \n",
       "\n",
       "              num_unique_id  \n",
       "media_source                 \n",
       "Adstarter              2003  \n",
       "Crossfaith            26438  "
      ]
     },
     "execution_count": 23,
     "metadata": {},
     "output_type": "execute_result"
    }
   ],
   "source": [
    "more_0"
   ]
  },
  {
   "cell_type": "code",
   "execution_count": 24,
   "metadata": {},
   "outputs": [],
   "source": [
    "more_0_percent = more_0.apply(lambda x: round(x/more_0['num_unique_id'], 4)).drop(columns = 'num_unique_id')"
   ]
  },
  {
   "cell_type": "code",
   "execution_count": 25,
   "metadata": {},
   "outputs": [
    {
     "data": {
      "text/html": [
       "<div>\n",
       "<style scoped>\n",
       "    .dataframe tbody tr th:only-of-type {\n",
       "        vertical-align: middle;\n",
       "    }\n",
       "\n",
       "    .dataframe tbody tr th {\n",
       "        vertical-align: top;\n",
       "    }\n",
       "\n",
       "    .dataframe thead th {\n",
       "        text-align: right;\n",
       "    }\n",
       "</style>\n",
       "<table border=\"1\" class=\"dataframe\">\n",
       "  <thead>\n",
       "    <tr style=\"text-align: right;\">\n",
       "      <th></th>\n",
       "      <th>NPU_more_0</th>\n",
       "      <th>level_reached_3_more_0</th>\n",
       "      <th>level_reached_5_more_0</th>\n",
       "    </tr>\n",
       "    <tr>\n",
       "      <th>media_source</th>\n",
       "      <th></th>\n",
       "      <th></th>\n",
       "      <th></th>\n",
       "    </tr>\n",
       "  </thead>\n",
       "  <tbody>\n",
       "    <tr>\n",
       "      <td>Adstarter</td>\n",
       "      <td>0.0065</td>\n",
       "      <td>0.3684</td>\n",
       "      <td>0.4009</td>\n",
       "    </tr>\n",
       "    <tr>\n",
       "      <td>Crossfaith</td>\n",
       "      <td>0.0082</td>\n",
       "      <td>0.2845</td>\n",
       "      <td>0.2595</td>\n",
       "    </tr>\n",
       "  </tbody>\n",
       "</table>\n",
       "</div>"
      ],
      "text/plain": [
       "              NPU_more_0  level_reached_3_more_0  level_reached_5_more_0\n",
       "media_source                                                            \n",
       "Adstarter         0.0065                  0.3684                  0.4009\n",
       "Crossfaith        0.0082                  0.2845                  0.2595"
      ]
     },
     "execution_count": 25,
     "metadata": {},
     "output_type": "execute_result"
    }
   ],
   "source": [
    "more_0_percent"
   ]
  },
  {
   "cell_type": "code",
   "execution_count": null,
   "metadata": {},
   "outputs": [],
   "source": []
  },
  {
   "cell_type": "code",
   "execution_count": null,
   "metadata": {},
   "outputs": [],
   "source": []
  },
  {
   "cell_type": "code",
   "execution_count": null,
   "metadata": {},
   "outputs": [],
   "source": []
  },
  {
   "cell_type": "code",
   "execution_count": 26,
   "metadata": {},
   "outputs": [],
   "source": [
    "#Статистика для id с суммами каждого вида активности\n",
    "sum_activity = data_group_media"
   ]
  },
  {
   "cell_type": "code",
   "execution_count": 27,
   "metadata": {},
   "outputs": [],
   "source": [
    "#Колонка, обозначающая была ли вообще активность у пользователя\n",
    "data_group_media['no_activity'] = \\\n",
    "(data_group_media['NPU'] + data_group_media['level_reached_3'] + data_group_media['level_reached_5']) == 0"
   ]
  },
  {
   "cell_type": "code",
   "execution_count": 28,
   "metadata": {},
   "outputs": [],
   "source": [
    "data_group_media['no_activity'] = data_group_media['no_activity'].apply(lambda x: int(x))"
   ]
  },
  {
   "cell_type": "code",
   "execution_count": 29,
   "metadata": {},
   "outputs": [
    {
     "data": {
      "text/html": [
       "<div>\n",
       "<style scoped>\n",
       "    .dataframe tbody tr th:only-of-type {\n",
       "        vertical-align: middle;\n",
       "    }\n",
       "\n",
       "    .dataframe tbody tr th {\n",
       "        vertical-align: top;\n",
       "    }\n",
       "\n",
       "    .dataframe thead th {\n",
       "        text-align: right;\n",
       "    }\n",
       "</style>\n",
       "<table border=\"1\" class=\"dataframe\">\n",
       "  <thead>\n",
       "    <tr style=\"text-align: right;\">\n",
       "      <th></th>\n",
       "      <th></th>\n",
       "      <th>NPU</th>\n",
       "      <th>level_reached_3</th>\n",
       "      <th>level_reached_5</th>\n",
       "      <th>no_activity</th>\n",
       "    </tr>\n",
       "    <tr>\n",
       "      <th>media_source</th>\n",
       "      <th>appsflyer_id</th>\n",
       "      <th></th>\n",
       "      <th></th>\n",
       "      <th></th>\n",
       "      <th></th>\n",
       "    </tr>\n",
       "  </thead>\n",
       "  <tbody>\n",
       "    <tr>\n",
       "      <td rowspan=\"5\" valign=\"top\">Adstarter</td>\n",
       "      <td>1543127984528-6940691891530490548</td>\n",
       "      <td>0</td>\n",
       "      <td>0</td>\n",
       "      <td>0</td>\n",
       "      <td>1</td>\n",
       "    </tr>\n",
       "    <tr>\n",
       "      <td>1543531503450-1251015439893629029</td>\n",
       "      <td>0</td>\n",
       "      <td>0</td>\n",
       "      <td>0</td>\n",
       "      <td>1</td>\n",
       "    </tr>\n",
       "    <tr>\n",
       "      <td>1543615592373-3385887950166968577</td>\n",
       "      <td>0</td>\n",
       "      <td>2</td>\n",
       "      <td>2</td>\n",
       "      <td>0</td>\n",
       "    </tr>\n",
       "    <tr>\n",
       "      <td>1543618281886-4076348101088745884</td>\n",
       "      <td>0</td>\n",
       "      <td>1</td>\n",
       "      <td>1</td>\n",
       "      <td>0</td>\n",
       "    </tr>\n",
       "    <tr>\n",
       "      <td>1543625244036-5332934591899282871</td>\n",
       "      <td>0</td>\n",
       "      <td>0</td>\n",
       "      <td>0</td>\n",
       "      <td>1</td>\n",
       "    </tr>\n",
       "    <tr>\n",
       "      <td>...</td>\n",
       "      <td>...</td>\n",
       "      <td>...</td>\n",
       "      <td>...</td>\n",
       "      <td>...</td>\n",
       "      <td>...</td>\n",
       "    </tr>\n",
       "    <tr>\n",
       "      <td rowspan=\"5\" valign=\"top\">Crossfaith</td>\n",
       "      <td>1546525436304-7290747470610023485</td>\n",
       "      <td>0</td>\n",
       "      <td>0</td>\n",
       "      <td>0</td>\n",
       "      <td>1</td>\n",
       "    </tr>\n",
       "    <tr>\n",
       "      <td>1547237344464-4158114377678420125</td>\n",
       "      <td>0</td>\n",
       "      <td>2</td>\n",
       "      <td>0</td>\n",
       "      <td>0</td>\n",
       "    </tr>\n",
       "    <tr>\n",
       "      <td>1547395987626-2574423648959027143</td>\n",
       "      <td>0</td>\n",
       "      <td>2</td>\n",
       "      <td>2</td>\n",
       "      <td>0</td>\n",
       "    </tr>\n",
       "    <tr>\n",
       "      <td>1547688430117-3130938844239942085</td>\n",
       "      <td>0</td>\n",
       "      <td>2</td>\n",
       "      <td>2</td>\n",
       "      <td>0</td>\n",
       "    </tr>\n",
       "    <tr>\n",
       "      <td>1619800928862-4768244534901173965</td>\n",
       "      <td>0</td>\n",
       "      <td>2</td>\n",
       "      <td>0</td>\n",
       "      <td>0</td>\n",
       "    </tr>\n",
       "  </tbody>\n",
       "</table>\n",
       "<p>28441 rows × 4 columns</p>\n",
       "</div>"
      ],
      "text/plain": [
       "                                                NPU  level_reached_3  \\\n",
       "media_source appsflyer_id                                              \n",
       "Adstarter    1543127984528-6940691891530490548    0                0   \n",
       "             1543531503450-1251015439893629029    0                0   \n",
       "             1543615592373-3385887950166968577    0                2   \n",
       "             1543618281886-4076348101088745884    0                1   \n",
       "             1543625244036-5332934591899282871    0                0   \n",
       "...                                             ...              ...   \n",
       "Crossfaith   1546525436304-7290747470610023485    0                0   \n",
       "             1547237344464-4158114377678420125    0                2   \n",
       "             1547395987626-2574423648959027143    0                2   \n",
       "             1547688430117-3130938844239942085    0                2   \n",
       "             1619800928862-4768244534901173965    0                2   \n",
       "\n",
       "                                                level_reached_5  no_activity  \n",
       "media_source appsflyer_id                                                     \n",
       "Adstarter    1543127984528-6940691891530490548                0            1  \n",
       "             1543531503450-1251015439893629029                0            1  \n",
       "             1543615592373-3385887950166968577                2            0  \n",
       "             1543618281886-4076348101088745884                1            0  \n",
       "             1543625244036-5332934591899282871                0            1  \n",
       "...                                                         ...          ...  \n",
       "Crossfaith   1546525436304-7290747470610023485                0            1  \n",
       "             1547237344464-4158114377678420125                0            0  \n",
       "             1547395987626-2574423648959027143                2            0  \n",
       "             1547688430117-3130938844239942085                2            0  \n",
       "             1619800928862-4768244534901173965                0            0  \n",
       "\n",
       "[28441 rows x 4 columns]"
      ]
     },
     "execution_count": 29,
     "metadata": {},
     "output_type": "execute_result"
    }
   ],
   "source": [
    "data_group_media"
   ]
  },
  {
   "cell_type": "code",
   "execution_count": null,
   "metadata": {},
   "outputs": [],
   "source": []
  },
  {
   "cell_type": "code",
   "execution_count": 30,
   "metadata": {},
   "outputs": [],
   "source": [
    "data_group_media_sum= data_group_media.groupby(['media_source']).sum()"
   ]
  },
  {
   "cell_type": "code",
   "execution_count": 31,
   "metadata": {},
   "outputs": [],
   "source": [
    "data_group_media_sum['sum_activity'] = \\\n",
    "data_group_media_sum['NPU'] + data_group_media_sum['level_reached_3'] + data_group_media_sum['level_reached_5']"
   ]
  },
  {
   "cell_type": "code",
   "execution_count": 32,
   "metadata": {},
   "outputs": [
    {
     "data": {
      "text/html": [
       "<div>\n",
       "<style scoped>\n",
       "    .dataframe tbody tr th:only-of-type {\n",
       "        vertical-align: middle;\n",
       "    }\n",
       "\n",
       "    .dataframe tbody tr th {\n",
       "        vertical-align: top;\n",
       "    }\n",
       "\n",
       "    .dataframe thead th {\n",
       "        text-align: right;\n",
       "    }\n",
       "</style>\n",
       "<table border=\"1\" class=\"dataframe\">\n",
       "  <thead>\n",
       "    <tr style=\"text-align: right;\">\n",
       "      <th></th>\n",
       "      <th>NPU</th>\n",
       "      <th>level_reached_3</th>\n",
       "      <th>level_reached_5</th>\n",
       "      <th>no_activity</th>\n",
       "      <th>sum_activity</th>\n",
       "    </tr>\n",
       "    <tr>\n",
       "      <th>media_source</th>\n",
       "      <th></th>\n",
       "      <th></th>\n",
       "      <th></th>\n",
       "      <th></th>\n",
       "      <th></th>\n",
       "    </tr>\n",
       "  </thead>\n",
       "  <tbody>\n",
       "    <tr>\n",
       "      <td>Adstarter</td>\n",
       "      <td>27.0</td>\n",
       "      <td>1943.0</td>\n",
       "      <td>1930.0</td>\n",
       "      <td>652</td>\n",
       "      <td>3900.0</td>\n",
       "    </tr>\n",
       "    <tr>\n",
       "      <td>Crossfaith</td>\n",
       "      <td>455.0</td>\n",
       "      <td>19890.0</td>\n",
       "      <td>16659.0</td>\n",
       "      <td>13503</td>\n",
       "      <td>37004.0</td>\n",
       "    </tr>\n",
       "  </tbody>\n",
       "</table>\n",
       "</div>"
      ],
      "text/plain": [
       "                NPU  level_reached_3  level_reached_5  no_activity  \\\n",
       "media_source                                                         \n",
       "Adstarter      27.0           1943.0           1930.0          652   \n",
       "Crossfaith    455.0          19890.0          16659.0        13503   \n",
       "\n",
       "              sum_activity  \n",
       "media_source                \n",
       "Adstarter           3900.0  \n",
       "Crossfaith         37004.0  "
      ]
     },
     "execution_count": 32,
     "metadata": {},
     "output_type": "execute_result"
    }
   ],
   "source": [
    "data_group_media_sum"
   ]
  },
  {
   "cell_type": "code",
   "execution_count": 33,
   "metadata": {},
   "outputs": [],
   "source": [
    "data_group_media_sum['num_unique_id'] = np.array([num_adstarter_id, num_crossfaith_id])"
   ]
  },
  {
   "cell_type": "code",
   "execution_count": 34,
   "metadata": {},
   "outputs": [
    {
     "data": {
      "text/html": [
       "<div>\n",
       "<style scoped>\n",
       "    .dataframe tbody tr th:only-of-type {\n",
       "        vertical-align: middle;\n",
       "    }\n",
       "\n",
       "    .dataframe tbody tr th {\n",
       "        vertical-align: top;\n",
       "    }\n",
       "\n",
       "    .dataframe thead th {\n",
       "        text-align: right;\n",
       "    }\n",
       "</style>\n",
       "<table border=\"1\" class=\"dataframe\">\n",
       "  <thead>\n",
       "    <tr style=\"text-align: right;\">\n",
       "      <th></th>\n",
       "      <th>NPU</th>\n",
       "      <th>level_reached_3</th>\n",
       "      <th>level_reached_5</th>\n",
       "      <th>no_activity</th>\n",
       "      <th>sum_activity</th>\n",
       "      <th>num_unique_id</th>\n",
       "    </tr>\n",
       "    <tr>\n",
       "      <th>media_source</th>\n",
       "      <th></th>\n",
       "      <th></th>\n",
       "      <th></th>\n",
       "      <th></th>\n",
       "      <th></th>\n",
       "      <th></th>\n",
       "    </tr>\n",
       "  </thead>\n",
       "  <tbody>\n",
       "    <tr>\n",
       "      <td>Adstarter</td>\n",
       "      <td>27.0</td>\n",
       "      <td>1943.0</td>\n",
       "      <td>1930.0</td>\n",
       "      <td>652</td>\n",
       "      <td>3900.0</td>\n",
       "      <td>2003</td>\n",
       "    </tr>\n",
       "    <tr>\n",
       "      <td>Crossfaith</td>\n",
       "      <td>455.0</td>\n",
       "      <td>19890.0</td>\n",
       "      <td>16659.0</td>\n",
       "      <td>13503</td>\n",
       "      <td>37004.0</td>\n",
       "      <td>26438</td>\n",
       "    </tr>\n",
       "  </tbody>\n",
       "</table>\n",
       "</div>"
      ],
      "text/plain": [
       "                NPU  level_reached_3  level_reached_5  no_activity  \\\n",
       "media_source                                                         \n",
       "Adstarter      27.0           1943.0           1930.0          652   \n",
       "Crossfaith    455.0          19890.0          16659.0        13503   \n",
       "\n",
       "              sum_activity  num_unique_id  \n",
       "media_source                               \n",
       "Adstarter           3900.0           2003  \n",
       "Crossfaith         37004.0          26438  "
      ]
     },
     "execution_count": 34,
     "metadata": {},
     "output_type": "execute_result"
    }
   ],
   "source": [
    "data_group_media_sum"
   ]
  },
  {
   "cell_type": "code",
   "execution_count": 35,
   "metadata": {},
   "outputs": [],
   "source": [
    "sum_activity_percent = pd.DataFrame()"
   ]
  },
  {
   "cell_type": "code",
   "execution_count": 36,
   "metadata": {},
   "outputs": [],
   "source": [
    "sum_activity_percent = data_group_media_sum.apply(lambda x: round(x/data_group_media_sum['num_unique_id'], 3))"
   ]
  },
  {
   "cell_type": "code",
   "execution_count": 37,
   "metadata": {},
   "outputs": [],
   "source": [
    "sum_activity_percent = sum_activity_percent.drop(columns = 'num_unique_id')"
   ]
  },
  {
   "cell_type": "code",
   "execution_count": 38,
   "metadata": {},
   "outputs": [
    {
     "data": {
      "text/html": [
       "<div>\n",
       "<style scoped>\n",
       "    .dataframe tbody tr th:only-of-type {\n",
       "        vertical-align: middle;\n",
       "    }\n",
       "\n",
       "    .dataframe tbody tr th {\n",
       "        vertical-align: top;\n",
       "    }\n",
       "\n",
       "    .dataframe thead th {\n",
       "        text-align: right;\n",
       "    }\n",
       "</style>\n",
       "<table border=\"1\" class=\"dataframe\">\n",
       "  <thead>\n",
       "    <tr style=\"text-align: right;\">\n",
       "      <th></th>\n",
       "      <th>NPU</th>\n",
       "      <th>level_reached_3</th>\n",
       "      <th>level_reached_5</th>\n",
       "      <th>no_activity</th>\n",
       "      <th>sum_activity</th>\n",
       "    </tr>\n",
       "    <tr>\n",
       "      <th>media_source</th>\n",
       "      <th></th>\n",
       "      <th></th>\n",
       "      <th></th>\n",
       "      <th></th>\n",
       "      <th></th>\n",
       "    </tr>\n",
       "  </thead>\n",
       "  <tbody>\n",
       "    <tr>\n",
       "      <td>Adstarter</td>\n",
       "      <td>0.013</td>\n",
       "      <td>0.970</td>\n",
       "      <td>0.964</td>\n",
       "      <td>0.326</td>\n",
       "      <td>1.947</td>\n",
       "    </tr>\n",
       "    <tr>\n",
       "      <td>Crossfaith</td>\n",
       "      <td>0.017</td>\n",
       "      <td>0.752</td>\n",
       "      <td>0.630</td>\n",
       "      <td>0.511</td>\n",
       "      <td>1.400</td>\n",
       "    </tr>\n",
       "  </tbody>\n",
       "</table>\n",
       "</div>"
      ],
      "text/plain": [
       "                NPU  level_reached_3  level_reached_5  no_activity  \\\n",
       "media_source                                                         \n",
       "Adstarter     0.013            0.970            0.964        0.326   \n",
       "Crossfaith    0.017            0.752            0.630        0.511   \n",
       "\n",
       "              sum_activity  \n",
       "media_source                \n",
       "Adstarter            1.947  \n",
       "Crossfaith           1.400  "
      ]
     },
     "execution_count": 38,
     "metadata": {},
     "output_type": "execute_result"
    }
   ],
   "source": [
    "sum_activity_percent"
   ]
  },
  {
   "cell_type": "code",
   "execution_count": 39,
   "metadata": {},
   "outputs": [],
   "source": [
    "import seaborn as sns\n",
    "import matplotlib.pyplot as plt"
   ]
  },
  {
   "cell_type": "code",
   "execution_count": 40,
   "metadata": {},
   "outputs": [],
   "source": [
    "def plot_hist(dataframe, title):\n",
    "\n",
    "    labels = dataframe.columns\n",
    "    Adstarter_values = dataframe[labels].iloc[0]\n",
    "    Crossfaith_values = dataframe[labels].iloc[1]\n",
    "\n",
    "    x = np.arange(len(labels))\n",
    "    width = 0.35  \n",
    "\n",
    "    fig, ax = plt.subplots()\n",
    "\n",
    "    rects1 = ax.bar(x - width/2, Adstarter_values, width, label='Adstarter')\n",
    "    rects2 = ax.bar(x + width/2, Crossfaith_values, width, label='Crossfaith')\n",
    "\n",
    "    ax.legend()\n",
    "\n",
    "    def autolabel(rects):\n",
    "        \"\"\"Attach a text label above each bar in *rects*, displaying its height.\"\"\"\n",
    "        for rect in rects:\n",
    "            height = rect.get_height()\n",
    "            ax.annotate('{}'.format(height),\n",
    "                        xy=(rect.get_x() + rect.get_width() / 2, height),\n",
    "                        xytext=(0, 0), \n",
    "                        textcoords=\"offset points\",\n",
    "                        ha='center', va='bottom')\n",
    "\n",
    "\n",
    "    autolabel(rects1)\n",
    "    autolabel(rects2)\n",
    "    fig.tight_layout()\n",
    "    ax.set_ylabel('Scores')\n",
    "    ax.set_title(title)\n",
    "    ax.set_xticks(x)\n",
    "    ax.set_xticklabels(labels)\n",
    "    plt.plot();"
   ]
  },
  {
   "cell_type": "code",
   "execution_count": 41,
   "metadata": {},
   "outputs": [
    {
     "data": {
      "image/png": "[encoded data removed]",
      "text/plain": [
       "<Figure size 432x288 with 1 Axes>"
      ]
     },
     "metadata": {
      "needs_background": "light"
     },
     "output_type": "display_data"
    }
   ],
   "source": [
    "plot_hist(more_0_percent, '% of id that have more that 0 activity')"
   ]
  },
  {
   "cell_type": "markdown",
   "metadata": {},
   "source": [
    "Видим, что в случае Adstarter в целом активность пользователей выше по всем показателем, кроме покупок, хоть количество пользователей в по этому медиа ресурсу незначительно меньше."
   ]
  },
  {
   "cell_type": "code",
   "execution_count": 42,
   "metadata": {},
   "outputs": [
    {
     "data": {
      "image/png": "[encoded data removed]",
      "text/plain": [
       "<Figure size 432x288 with 1 Axes>"
      ]
     },
     "metadata": {
      "needs_background": "light"
     },
     "output_type": "display_data"
    }
   ],
   "source": [
    "plot_hist(sum_activity_percent, 'The ratio of total activity to the number of users')"
   ]
  },
  {
   "cell_type": "markdown",
   "metadata": {},
   "source": [
    "Очень сильно бросается то, что процент неактивных юзеров в Crossfaith гораздо больше, чем в Adstarter"
   ]
  },
  {
   "cell_type": "markdown",
   "metadata": {},
   "source": [
    "<h2><center>Сделаем таблицу распределения среднего количества активностей по когортам \"media_source/site_id/campaign\"</center></h2>\n"
   ]
  },
  {
   "cell_type": "code",
   "execution_count": 43,
   "metadata": {},
   "outputs": [],
   "source": [
    "group_data_count = data2.groupby(['media_source', 'site_id', 'campaign', 'appsflyer_id'], as_index = False).count()"
   ]
  },
  {
   "cell_type": "code",
   "execution_count": 44,
   "metadata": {},
   "outputs": [],
   "source": [
    "group_data_count = group_data_count.rename(columns = {'event_name':'num_user_activity'})"
   ]
  },
  {
   "cell_type": "code",
   "execution_count": 45,
   "metadata": {},
   "outputs": [
    {
     "data": {
      "text/html": [
       "<div>\n",
       "<style scoped>\n",
       "    .dataframe tbody tr th:only-of-type {\n",
       "        vertical-align: middle;\n",
       "    }\n",
       "\n",
       "    .dataframe tbody tr th {\n",
       "        vertical-align: top;\n",
       "    }\n",
       "\n",
       "    .dataframe thead th {\n",
       "        text-align: right;\n",
       "    }\n",
       "</style>\n",
       "<table border=\"1\" class=\"dataframe\">\n",
       "  <thead>\n",
       "    <tr style=\"text-align: right;\">\n",
       "      <th></th>\n",
       "      <th>media_source</th>\n",
       "      <th>site_id</th>\n",
       "      <th>campaign</th>\n",
       "      <th>appsflyer_id</th>\n",
       "      <th>num_user_activity</th>\n",
       "    </tr>\n",
       "  </thead>\n",
       "  <tbody>\n",
       "    <tr>\n",
       "      <td>0</td>\n",
       "      <td>Adstarter</td>\n",
       "      <td>AaronEsser</td>\n",
       "      <td>Playcom_US_w11</td>\n",
       "      <td>1543667539491-7244411862515843678</td>\n",
       "      <td>1</td>\n",
       "    </tr>\n",
       "    <tr>\n",
       "      <td>1</td>\n",
       "      <td>Adstarter</td>\n",
       "      <td>AaronEsser</td>\n",
       "      <td>Playcom_US_w11</td>\n",
       "      <td>1543682712096-2273780647544575536</td>\n",
       "      <td>5</td>\n",
       "    </tr>\n",
       "    <tr>\n",
       "      <td>2</td>\n",
       "      <td>Adstarter</td>\n",
       "      <td>AaronEsser</td>\n",
       "      <td>Playcom_US_w11</td>\n",
       "      <td>1543696987002-8817919170253514635</td>\n",
       "      <td>1</td>\n",
       "    </tr>\n",
       "    <tr>\n",
       "      <td>3</td>\n",
       "      <td>Adstarter</td>\n",
       "      <td>AaronEsser</td>\n",
       "      <td>Playcom_US_w11</td>\n",
       "      <td>1543747819481-3940214760510552950</td>\n",
       "      <td>4</td>\n",
       "    </tr>\n",
       "    <tr>\n",
       "      <td>4</td>\n",
       "      <td>Adstarter</td>\n",
       "      <td>AaronEsser</td>\n",
       "      <td>Playcom_US_w11</td>\n",
       "      <td>1543752346134-9112873296635459465</td>\n",
       "      <td>1</td>\n",
       "    </tr>\n",
       "    <tr>\n",
       "      <td>...</td>\n",
       "      <td>...</td>\n",
       "      <td>...</td>\n",
       "      <td>...</td>\n",
       "      <td>...</td>\n",
       "      <td>...</td>\n",
       "    </tr>\n",
       "    <tr>\n",
       "      <td>28436</td>\n",
       "      <td>Crossfaith</td>\n",
       "      <td>TCH_607_47_28306</td>\n",
       "      <td>WR_And_US_CPA</td>\n",
       "      <td>1543881176166-7294799236597203396</td>\n",
       "      <td>1</td>\n",
       "    </tr>\n",
       "    <tr>\n",
       "      <td>28437</td>\n",
       "      <td>Crossfaith</td>\n",
       "      <td>TCH_607_47_28309</td>\n",
       "      <td>WR_And_US_CPA</td>\n",
       "      <td>1543813935596-3405700343394389278</td>\n",
       "      <td>1</td>\n",
       "    </tr>\n",
       "    <tr>\n",
       "      <td>28438</td>\n",
       "      <td>Crossfaith</td>\n",
       "      <td>TCH_607_47_28313</td>\n",
       "      <td>WR_And_US_CPA</td>\n",
       "      <td>1543725789577-836646343682732117</td>\n",
       "      <td>5</td>\n",
       "    </tr>\n",
       "    <tr>\n",
       "      <td>28439</td>\n",
       "      <td>Crossfaith</td>\n",
       "      <td>TCH_607_47_28313</td>\n",
       "      <td>WR_And_US_CPA</td>\n",
       "      <td>1543826226891-7651519832492055359</td>\n",
       "      <td>1</td>\n",
       "    </tr>\n",
       "    <tr>\n",
       "      <td>28440</td>\n",
       "      <td>Crossfaith</td>\n",
       "      <td>p1824</td>\n",
       "      <td>WR_And_US_CPA</td>\n",
       "      <td>1531099161524-6901947546728867915</td>\n",
       "      <td>1</td>\n",
       "    </tr>\n",
       "  </tbody>\n",
       "</table>\n",
       "<p>28441 rows × 5 columns</p>\n",
       "</div>"
      ],
      "text/plain": [
       "      media_source           site_id        campaign  \\\n",
       "0        Adstarter        AaronEsser  Playcom_US_w11   \n",
       "1        Adstarter        AaronEsser  Playcom_US_w11   \n",
       "2        Adstarter        AaronEsser  Playcom_US_w11   \n",
       "3        Adstarter        AaronEsser  Playcom_US_w11   \n",
       "4        Adstarter        AaronEsser  Playcom_US_w11   \n",
       "...            ...               ...             ...   \n",
       "28436   Crossfaith  TCH_607_47_28306   WR_And_US_CPA   \n",
       "28437   Crossfaith  TCH_607_47_28309   WR_And_US_CPA   \n",
       "28438   Crossfaith  TCH_607_47_28313   WR_And_US_CPA   \n",
       "28439   Crossfaith  TCH_607_47_28313   WR_And_US_CPA   \n",
       "28440   Crossfaith             p1824   WR_And_US_CPA   \n",
       "\n",
       "                            appsflyer_id  num_user_activity  \n",
       "0      1543667539491-7244411862515843678                  1  \n",
       "1      1543682712096-2273780647544575536                  5  \n",
       "2      1543696987002-8817919170253514635                  1  \n",
       "3      1543747819481-3940214760510552950                  4  \n",
       "4      1543752346134-9112873296635459465                  1  \n",
       "...                                  ...                ...  \n",
       "28436  1543881176166-7294799236597203396                  1  \n",
       "28437  1543813935596-3405700343394389278                  1  \n",
       "28438   1543725789577-836646343682732117                  5  \n",
       "28439  1543826226891-7651519832492055359                  1  \n",
       "28440  1531099161524-6901947546728867915                  1  \n",
       "\n",
       "[28441 rows x 5 columns]"
      ]
     },
     "execution_count": 45,
     "metadata": {},
     "output_type": "execute_result"
    }
   ],
   "source": [
    "group_data_count"
   ]
  },
  {
   "cell_type": "code",
   "execution_count": 46,
   "metadata": {},
   "outputs": [],
   "source": [
    "group_data_count_mean = group_data_count.groupby(['media_source', 'site_id', 'campaign'], as_index = False).aggregate({'num_user_activity':'mean'})"
   ]
  },
  {
   "cell_type": "code",
   "execution_count": 47,
   "metadata": {},
   "outputs": [
    {
     "data": {
      "text/html": [
       "<div>\n",
       "<style scoped>\n",
       "    .dataframe tbody tr th:only-of-type {\n",
       "        vertical-align: middle;\n",
       "    }\n",
       "\n",
       "    .dataframe tbody tr th {\n",
       "        vertical-align: top;\n",
       "    }\n",
       "\n",
       "    .dataframe thead th {\n",
       "        text-align: right;\n",
       "    }\n",
       "</style>\n",
       "<table border=\"1\" class=\"dataframe\">\n",
       "  <thead>\n",
       "    <tr style=\"text-align: right;\">\n",
       "      <th></th>\n",
       "      <th>media_source</th>\n",
       "      <th>site_id</th>\n",
       "      <th>campaign</th>\n",
       "      <th>num_user_activity</th>\n",
       "    </tr>\n",
       "  </thead>\n",
       "  <tbody>\n",
       "    <tr>\n",
       "      <td>0</td>\n",
       "      <td>Adstarter</td>\n",
       "      <td>AaronEsser</td>\n",
       "      <td>Playcom_US_w11</td>\n",
       "      <td>2.142857</td>\n",
       "    </tr>\n",
       "    <tr>\n",
       "      <td>1</td>\n",
       "      <td>Adstarter</td>\n",
       "      <td>AliProductions</td>\n",
       "      <td>Playcom_US_w10</td>\n",
       "      <td>1.000000</td>\n",
       "    </tr>\n",
       "    <tr>\n",
       "      <td>2</td>\n",
       "      <td>Adstarter</td>\n",
       "      <td>Avive</td>\n",
       "      <td>Playcom_DE_w2</td>\n",
       "      <td>2.257143</td>\n",
       "    </tr>\n",
       "    <tr>\n",
       "      <td>3</td>\n",
       "      <td>Adstarter</td>\n",
       "      <td>B3nny</td>\n",
       "      <td>Playcom_DE_w2</td>\n",
       "      <td>2.750000</td>\n",
       "    </tr>\n",
       "    <tr>\n",
       "      <td>4</td>\n",
       "      <td>Adstarter</td>\n",
       "      <td>BeastyGames</td>\n",
       "      <td>Playcom_US_w10</td>\n",
       "      <td>3.208333</td>\n",
       "    </tr>\n",
       "    <tr>\n",
       "      <td>...</td>\n",
       "      <td>...</td>\n",
       "      <td>...</td>\n",
       "      <td>...</td>\n",
       "      <td>...</td>\n",
       "    </tr>\n",
       "    <tr>\n",
       "      <td>3579</td>\n",
       "      <td>Crossfaith</td>\n",
       "      <td>TCH_607_47_28304</td>\n",
       "      <td>WR_And_US_CPA</td>\n",
       "      <td>2.666667</td>\n",
       "    </tr>\n",
       "    <tr>\n",
       "      <td>3580</td>\n",
       "      <td>Crossfaith</td>\n",
       "      <td>TCH_607_47_28306</td>\n",
       "      <td>WR_And_US_CPA</td>\n",
       "      <td>2.000000</td>\n",
       "    </tr>\n",
       "    <tr>\n",
       "      <td>3581</td>\n",
       "      <td>Crossfaith</td>\n",
       "      <td>TCH_607_47_28309</td>\n",
       "      <td>WR_And_US_CPA</td>\n",
       "      <td>1.000000</td>\n",
       "    </tr>\n",
       "    <tr>\n",
       "      <td>3582</td>\n",
       "      <td>Crossfaith</td>\n",
       "      <td>TCH_607_47_28313</td>\n",
       "      <td>WR_And_US_CPA</td>\n",
       "      <td>3.000000</td>\n",
       "    </tr>\n",
       "    <tr>\n",
       "      <td>3583</td>\n",
       "      <td>Crossfaith</td>\n",
       "      <td>p1824</td>\n",
       "      <td>WR_And_US_CPA</td>\n",
       "      <td>1.000000</td>\n",
       "    </tr>\n",
       "  </tbody>\n",
       "</table>\n",
       "<p>3584 rows × 4 columns</p>\n",
       "</div>"
      ],
      "text/plain": [
       "     media_source           site_id        campaign  num_user_activity\n",
       "0       Adstarter        AaronEsser  Playcom_US_w11           2.142857\n",
       "1       Adstarter    AliProductions  Playcom_US_w10           1.000000\n",
       "2       Adstarter             Avive   Playcom_DE_w2           2.257143\n",
       "3       Adstarter             B3nny   Playcom_DE_w2           2.750000\n",
       "4       Adstarter       BeastyGames  Playcom_US_w10           3.208333\n",
       "...           ...               ...             ...                ...\n",
       "3579   Crossfaith  TCH_607_47_28304   WR_And_US_CPA           2.666667\n",
       "3580   Crossfaith  TCH_607_47_28306   WR_And_US_CPA           2.000000\n",
       "3581   Crossfaith  TCH_607_47_28309   WR_And_US_CPA           1.000000\n",
       "3582   Crossfaith  TCH_607_47_28313   WR_And_US_CPA           3.000000\n",
       "3583   Crossfaith             p1824   WR_And_US_CPA           1.000000\n",
       "\n",
       "[3584 rows x 4 columns]"
      ]
     },
     "execution_count": 47,
     "metadata": {},
     "output_type": "execute_result"
    }
   ],
   "source": [
    "group_data_count_mean"
   ]
  },
  {
   "cell_type": "code",
   "execution_count": 48,
   "metadata": {},
   "outputs": [],
   "source": [
    "group_data_count_mean = group_data_count_mean.rename(columns = {'num_user_activity':'mean_user_activity'})"
   ]
  },
  {
   "cell_type": "code",
   "execution_count": 49,
   "metadata": {},
   "outputs": [
    {
     "data": {
      "text/html": [
       "<div>\n",
       "<style scoped>\n",
       "    .dataframe tbody tr th:only-of-type {\n",
       "        vertical-align: middle;\n",
       "    }\n",
       "\n",
       "    .dataframe tbody tr th {\n",
       "        vertical-align: top;\n",
       "    }\n",
       "\n",
       "    .dataframe thead th {\n",
       "        text-align: right;\n",
       "    }\n",
       "</style>\n",
       "<table border=\"1\" class=\"dataframe\">\n",
       "  <thead>\n",
       "    <tr style=\"text-align: right;\">\n",
       "      <th></th>\n",
       "      <th>media_source</th>\n",
       "      <th>site_id</th>\n",
       "      <th>campaign</th>\n",
       "      <th>mean_user_activity</th>\n",
       "    </tr>\n",
       "  </thead>\n",
       "  <tbody>\n",
       "    <tr>\n",
       "      <td>0</td>\n",
       "      <td>Adstarter</td>\n",
       "      <td>AaronEsser</td>\n",
       "      <td>Playcom_US_w11</td>\n",
       "      <td>2.142857</td>\n",
       "    </tr>\n",
       "    <tr>\n",
       "      <td>1</td>\n",
       "      <td>Adstarter</td>\n",
       "      <td>AliProductions</td>\n",
       "      <td>Playcom_US_w10</td>\n",
       "      <td>1.000000</td>\n",
       "    </tr>\n",
       "    <tr>\n",
       "      <td>2</td>\n",
       "      <td>Adstarter</td>\n",
       "      <td>Avive</td>\n",
       "      <td>Playcom_DE_w2</td>\n",
       "      <td>2.257143</td>\n",
       "    </tr>\n",
       "    <tr>\n",
       "      <td>3</td>\n",
       "      <td>Adstarter</td>\n",
       "      <td>B3nny</td>\n",
       "      <td>Playcom_DE_w2</td>\n",
       "      <td>2.750000</td>\n",
       "    </tr>\n",
       "    <tr>\n",
       "      <td>4</td>\n",
       "      <td>Adstarter</td>\n",
       "      <td>BeastyGames</td>\n",
       "      <td>Playcom_US_w10</td>\n",
       "      <td>3.208333</td>\n",
       "    </tr>\n",
       "    <tr>\n",
       "      <td>...</td>\n",
       "      <td>...</td>\n",
       "      <td>...</td>\n",
       "      <td>...</td>\n",
       "      <td>...</td>\n",
       "    </tr>\n",
       "    <tr>\n",
       "      <td>3579</td>\n",
       "      <td>Crossfaith</td>\n",
       "      <td>TCH_607_47_28304</td>\n",
       "      <td>WR_And_US_CPA</td>\n",
       "      <td>2.666667</td>\n",
       "    </tr>\n",
       "    <tr>\n",
       "      <td>3580</td>\n",
       "      <td>Crossfaith</td>\n",
       "      <td>TCH_607_47_28306</td>\n",
       "      <td>WR_And_US_CPA</td>\n",
       "      <td>2.000000</td>\n",
       "    </tr>\n",
       "    <tr>\n",
       "      <td>3581</td>\n",
       "      <td>Crossfaith</td>\n",
       "      <td>TCH_607_47_28309</td>\n",
       "      <td>WR_And_US_CPA</td>\n",
       "      <td>1.000000</td>\n",
       "    </tr>\n",
       "    <tr>\n",
       "      <td>3582</td>\n",
       "      <td>Crossfaith</td>\n",
       "      <td>TCH_607_47_28313</td>\n",
       "      <td>WR_And_US_CPA</td>\n",
       "      <td>3.000000</td>\n",
       "    </tr>\n",
       "    <tr>\n",
       "      <td>3583</td>\n",
       "      <td>Crossfaith</td>\n",
       "      <td>p1824</td>\n",
       "      <td>WR_And_US_CPA</td>\n",
       "      <td>1.000000</td>\n",
       "    </tr>\n",
       "  </tbody>\n",
       "</table>\n",
       "<p>3584 rows × 4 columns</p>\n",
       "</div>"
      ],
      "text/plain": [
       "     media_source           site_id        campaign  mean_user_activity\n",
       "0       Adstarter        AaronEsser  Playcom_US_w11            2.142857\n",
       "1       Adstarter    AliProductions  Playcom_US_w10            1.000000\n",
       "2       Adstarter             Avive   Playcom_DE_w2            2.257143\n",
       "3       Adstarter             B3nny   Playcom_DE_w2            2.750000\n",
       "4       Adstarter       BeastyGames  Playcom_US_w10            3.208333\n",
       "...           ...               ...             ...                 ...\n",
       "3579   Crossfaith  TCH_607_47_28304   WR_And_US_CPA            2.666667\n",
       "3580   Crossfaith  TCH_607_47_28306   WR_And_US_CPA            2.000000\n",
       "3581   Crossfaith  TCH_607_47_28309   WR_And_US_CPA            1.000000\n",
       "3582   Crossfaith  TCH_607_47_28313   WR_And_US_CPA            3.000000\n",
       "3583   Crossfaith             p1824   WR_And_US_CPA            1.000000\n",
       "\n",
       "[3584 rows x 4 columns]"
      ]
     },
     "execution_count": 49,
     "metadata": {},
     "output_type": "execute_result"
    }
   ],
   "source": [
    "#Таблица средней активности пользователей по когортам\n",
    "group_data_count_mean"
   ]
  },
  {
   "cell_type": "markdown",
   "metadata": {},
   "source": [
    "<h2><center>Построим распределение средней активности пользователей</center></h2>\n"
   ]
  },
  {
   "cell_type": "code",
   "execution_count": 50,
   "metadata": {},
   "outputs": [
    {
     "data": {
      "image/png": "[encoded data removed]",
      "text/plain": [
       "<Figure size 720x360 with 1 Axes>"
      ]
     },
     "metadata": {
      "needs_background": "light"
     },
     "output_type": "display_data"
    }
   ],
   "source": [
    "import seaborn as sns\n",
    "import matplotlib.pyplot as plt\n",
    "\n",
    "plt.figure(figsize=(10,5)) #чтобы не мучать глазки\n",
    "\n",
    "count_plot = sns.distplot(group_data_count_mean['mean_user_activity'])"
   ]
  },
  {
   "cell_type": "markdown",
   "metadata": {},
   "source": [
    "<h2><center>Различия распределений в зависимости от кампании</center></h2>\n"
   ]
  },
  {
   "cell_type": "code",
   "execution_count": 51,
   "metadata": {},
   "outputs": [
    {
     "data": {
      "text/plain": [
       "<matplotlib.axes._subplots.AxesSubplot at 0x1c04738b948>"
      ]
     },
     "execution_count": 51,
     "metadata": {},
     "output_type": "execute_result"
    },
    {
     "data": {
      "image/png": "[encoded data removed]",
      "text/plain": [
       "<Figure size 720x360 with 1 Axes>"
      ]
     },
     "metadata": {
      "needs_background": "light"
     },
     "output_type": "display_data"
    }
   ],
   "source": [
    "plt.figure(figsize=(10,5))\n",
    "sns.distplot(group_data_count_mean[group_data_count_mean['media_source']=='Adstarter']['mean_user_activity'], color='green')\n",
    "sns.distplot(group_data_count_mean[group_data_count_mean['media_source']=='Crossfaith']['mean_user_activity'], color='blue')"
   ]
  },
  {
   "cell_type": "code",
   "execution_count": 52,
   "metadata": {},
   "outputs": [
    {
     "data": {
      "text/plain": [
       "Crossfaith    3551\n",
       "Adstarter       33\n",
       "Name: media_source, dtype: int64"
      ]
     },
     "execution_count": 52,
     "metadata": {},
     "output_type": "execute_result"
    }
   ],
   "source": [
    "group_data_count_mean['media_source'].value_counts()"
   ]
  },
  {
   "cell_type": "markdown",
   "metadata": {},
   "source": [
    "Распределение средних в случае Adstarter более нормализовано, чем в случае Crossfaith, хоть и количество сэмплов в первом гораздо меньше. Очень интересно.\n",
    "Так же идим явные аномалии в Crossfaith в местах mean_user_activity {1, 3, 5}."
   ]
  },
  {
   "cell_type": "markdown",
   "metadata": {},
   "source": [
    "<h1>Рассмотрим подробнее, построив точечный график зависимости количества событий от уровня средней активности </h2>"
   ]
  },
  {
   "cell_type": "code",
   "execution_count": 53,
   "metadata": {},
   "outputs": [],
   "source": [
    "data_counts_id = data2.groupby(['media_source', 'site_id', 'campaign', 'appsflyer_id']).count()"
   ]
  },
  {
   "cell_type": "code",
   "execution_count": 54,
   "metadata": {},
   "outputs": [
    {
     "data": {
      "text/html": [
       "<div>\n",
       "<style scoped>\n",
       "    .dataframe tbody tr th:only-of-type {\n",
       "        vertical-align: middle;\n",
       "    }\n",
       "\n",
       "    .dataframe tbody tr th {\n",
       "        vertical-align: top;\n",
       "    }\n",
       "\n",
       "    .dataframe thead th {\n",
       "        text-align: right;\n",
       "    }\n",
       "</style>\n",
       "<table border=\"1\" class=\"dataframe\">\n",
       "  <thead>\n",
       "    <tr style=\"text-align: right;\">\n",
       "      <th></th>\n",
       "      <th></th>\n",
       "      <th></th>\n",
       "      <th></th>\n",
       "      <th>event_name</th>\n",
       "    </tr>\n",
       "    <tr>\n",
       "      <th>media_source</th>\n",
       "      <th>site_id</th>\n",
       "      <th>campaign</th>\n",
       "      <th>appsflyer_id</th>\n",
       "      <th></th>\n",
       "    </tr>\n",
       "  </thead>\n",
       "  <tbody>\n",
       "    <tr>\n",
       "      <td rowspan=\"5\" valign=\"top\">Adstarter</td>\n",
       "      <td rowspan=\"5\" valign=\"top\">AaronEsser</td>\n",
       "      <td rowspan=\"5\" valign=\"top\">Playcom_US_w11</td>\n",
       "      <td>1543667539491-7244411862515843678</td>\n",
       "      <td>1</td>\n",
       "    </tr>\n",
       "    <tr>\n",
       "      <td>1543682712096-2273780647544575536</td>\n",
       "      <td>5</td>\n",
       "    </tr>\n",
       "    <tr>\n",
       "      <td>1543696987002-8817919170253514635</td>\n",
       "      <td>1</td>\n",
       "    </tr>\n",
       "    <tr>\n",
       "      <td>1543747819481-3940214760510552950</td>\n",
       "      <td>4</td>\n",
       "    </tr>\n",
       "    <tr>\n",
       "      <td>1543752346134-9112873296635459465</td>\n",
       "      <td>1</td>\n",
       "    </tr>\n",
       "    <tr>\n",
       "      <td>...</td>\n",
       "      <td>...</td>\n",
       "      <td>...</td>\n",
       "      <td>...</td>\n",
       "      <td>...</td>\n",
       "    </tr>\n",
       "    <tr>\n",
       "      <td rowspan=\"5\" valign=\"top\">Crossfaith</td>\n",
       "      <td>TCH_607_47_28306</td>\n",
       "      <td>WR_And_US_CPA</td>\n",
       "      <td>1543881176166-7294799236597203396</td>\n",
       "      <td>1</td>\n",
       "    </tr>\n",
       "    <tr>\n",
       "      <td>TCH_607_47_28309</td>\n",
       "      <td>WR_And_US_CPA</td>\n",
       "      <td>1543813935596-3405700343394389278</td>\n",
       "      <td>1</td>\n",
       "    </tr>\n",
       "    <tr>\n",
       "      <td rowspan=\"2\" valign=\"top\">TCH_607_47_28313</td>\n",
       "      <td rowspan=\"2\" valign=\"top\">WR_And_US_CPA</td>\n",
       "      <td>1543725789577-836646343682732117</td>\n",
       "      <td>5</td>\n",
       "    </tr>\n",
       "    <tr>\n",
       "      <td>1543826226891-7651519832492055359</td>\n",
       "      <td>1</td>\n",
       "    </tr>\n",
       "    <tr>\n",
       "      <td>p1824</td>\n",
       "      <td>WR_And_US_CPA</td>\n",
       "      <td>1531099161524-6901947546728867915</td>\n",
       "      <td>1</td>\n",
       "    </tr>\n",
       "  </tbody>\n",
       "</table>\n",
       "<p>28441 rows × 1 columns</p>\n",
       "</div>"
      ],
      "text/plain": [
       "                                                                                event_name\n",
       "media_source site_id          campaign       appsflyer_id                                 \n",
       "Adstarter    AaronEsser       Playcom_US_w11 1543667539491-7244411862515843678           1\n",
       "                                             1543682712096-2273780647544575536           5\n",
       "                                             1543696987002-8817919170253514635           1\n",
       "                                             1543747819481-3940214760510552950           4\n",
       "                                             1543752346134-9112873296635459465           1\n",
       "...                                                                                    ...\n",
       "Crossfaith   TCH_607_47_28306 WR_And_US_CPA  1543881176166-7294799236597203396           1\n",
       "             TCH_607_47_28309 WR_And_US_CPA  1543813935596-3405700343394389278           1\n",
       "             TCH_607_47_28313 WR_And_US_CPA  1543725789577-836646343682732117            5\n",
       "                                             1543826226891-7651519832492055359           1\n",
       "             p1824            WR_And_US_CPA  1531099161524-6901947546728867915           1\n",
       "\n",
       "[28441 rows x 1 columns]"
      ]
     },
     "execution_count": 54,
     "metadata": {},
     "output_type": "execute_result"
    }
   ],
   "source": [
    "data_counts_id"
   ]
  },
  {
   "cell_type": "code",
   "execution_count": 55,
   "metadata": {},
   "outputs": [],
   "source": [
    "num_users = group_data_count.groupby(['media_source', 'site_id', 'campaign'], as_index = False).aggregate({'num_user_activity':'count'})"
   ]
  },
  {
   "cell_type": "code",
   "execution_count": 56,
   "metadata": {},
   "outputs": [],
   "source": [
    "#!!!!!!!!!!!!!!!!!!!!!!!!!!!!!!!!!!"
   ]
  },
  {
   "cell_type": "code",
   "execution_count": 57,
   "metadata": {},
   "outputs": [],
   "source": [
    "num_users = group_data_count.groupby(['media_source', 'site_id', 'campaign'], as_index = False).count()"
   ]
  },
  {
   "cell_type": "code",
   "execution_count": 58,
   "metadata": {},
   "outputs": [
    {
     "data": {
      "text/html": [
       "<div>\n",
       "<style scoped>\n",
       "    .dataframe tbody tr th:only-of-type {\n",
       "        vertical-align: middle;\n",
       "    }\n",
       "\n",
       "    .dataframe tbody tr th {\n",
       "        vertical-align: top;\n",
       "    }\n",
       "\n",
       "    .dataframe thead th {\n",
       "        text-align: right;\n",
       "    }\n",
       "</style>\n",
       "<table border=\"1\" class=\"dataframe\">\n",
       "  <thead>\n",
       "    <tr style=\"text-align: right;\">\n",
       "      <th></th>\n",
       "      <th>media_source</th>\n",
       "      <th>site_id</th>\n",
       "      <th>campaign</th>\n",
       "      <th>appsflyer_id</th>\n",
       "      <th>num_user_activity</th>\n",
       "    </tr>\n",
       "  </thead>\n",
       "  <tbody>\n",
       "    <tr>\n",
       "      <td>0</td>\n",
       "      <td>Adstarter</td>\n",
       "      <td>AaronEsser</td>\n",
       "      <td>Playcom_US_w11</td>\n",
       "      <td>21</td>\n",
       "      <td>21</td>\n",
       "    </tr>\n",
       "    <tr>\n",
       "      <td>1</td>\n",
       "      <td>Adstarter</td>\n",
       "      <td>AliProductions</td>\n",
       "      <td>Playcom_US_w10</td>\n",
       "      <td>1</td>\n",
       "      <td>1</td>\n",
       "    </tr>\n",
       "    <tr>\n",
       "      <td>2</td>\n",
       "      <td>Adstarter</td>\n",
       "      <td>Avive</td>\n",
       "      <td>Playcom_DE_w2</td>\n",
       "      <td>35</td>\n",
       "      <td>35</td>\n",
       "    </tr>\n",
       "    <tr>\n",
       "      <td>3</td>\n",
       "      <td>Adstarter</td>\n",
       "      <td>B3nny</td>\n",
       "      <td>Playcom_DE_w2</td>\n",
       "      <td>4</td>\n",
       "      <td>4</td>\n",
       "    </tr>\n",
       "    <tr>\n",
       "      <td>4</td>\n",
       "      <td>Adstarter</td>\n",
       "      <td>BeastyGames</td>\n",
       "      <td>Playcom_US_w10</td>\n",
       "      <td>24</td>\n",
       "      <td>24</td>\n",
       "    </tr>\n",
       "    <tr>\n",
       "      <td>...</td>\n",
       "      <td>...</td>\n",
       "      <td>...</td>\n",
       "      <td>...</td>\n",
       "      <td>...</td>\n",
       "      <td>...</td>\n",
       "    </tr>\n",
       "    <tr>\n",
       "      <td>3579</td>\n",
       "      <td>Crossfaith</td>\n",
       "      <td>TCH_607_47_28304</td>\n",
       "      <td>WR_And_US_CPA</td>\n",
       "      <td>3</td>\n",
       "      <td>3</td>\n",
       "    </tr>\n",
       "    <tr>\n",
       "      <td>3580</td>\n",
       "      <td>Crossfaith</td>\n",
       "      <td>TCH_607_47_28306</td>\n",
       "      <td>WR_And_US_CPA</td>\n",
       "      <td>2</td>\n",
       "      <td>2</td>\n",
       "    </tr>\n",
       "    <tr>\n",
       "      <td>3581</td>\n",
       "      <td>Crossfaith</td>\n",
       "      <td>TCH_607_47_28309</td>\n",
       "      <td>WR_And_US_CPA</td>\n",
       "      <td>1</td>\n",
       "      <td>1</td>\n",
       "    </tr>\n",
       "    <tr>\n",
       "      <td>3582</td>\n",
       "      <td>Crossfaith</td>\n",
       "      <td>TCH_607_47_28313</td>\n",
       "      <td>WR_And_US_CPA</td>\n",
       "      <td>2</td>\n",
       "      <td>2</td>\n",
       "    </tr>\n",
       "    <tr>\n",
       "      <td>3583</td>\n",
       "      <td>Crossfaith</td>\n",
       "      <td>p1824</td>\n",
       "      <td>WR_And_US_CPA</td>\n",
       "      <td>1</td>\n",
       "      <td>1</td>\n",
       "    </tr>\n",
       "  </tbody>\n",
       "</table>\n",
       "<p>3584 rows × 5 columns</p>\n",
       "</div>"
      ],
      "text/plain": [
       "     media_source           site_id        campaign  appsflyer_id  \\\n",
       "0       Adstarter        AaronEsser  Playcom_US_w11            21   \n",
       "1       Adstarter    AliProductions  Playcom_US_w10             1   \n",
       "2       Adstarter             Avive   Playcom_DE_w2            35   \n",
       "3       Adstarter             B3nny   Playcom_DE_w2             4   \n",
       "4       Adstarter       BeastyGames  Playcom_US_w10            24   \n",
       "...           ...               ...             ...           ...   \n",
       "3579   Crossfaith  TCH_607_47_28304   WR_And_US_CPA             3   \n",
       "3580   Crossfaith  TCH_607_47_28306   WR_And_US_CPA             2   \n",
       "3581   Crossfaith  TCH_607_47_28309   WR_And_US_CPA             1   \n",
       "3582   Crossfaith  TCH_607_47_28313   WR_And_US_CPA             2   \n",
       "3583   Crossfaith             p1824   WR_And_US_CPA             1   \n",
       "\n",
       "      num_user_activity  \n",
       "0                    21  \n",
       "1                     1  \n",
       "2                    35  \n",
       "3                     4  \n",
       "4                    24  \n",
       "...                 ...  \n",
       "3579                  3  \n",
       "3580                  2  \n",
       "3581                  1  \n",
       "3582                  2  \n",
       "3583                  1  \n",
       "\n",
       "[3584 rows x 5 columns]"
      ]
     },
     "execution_count": 58,
     "metadata": {},
     "output_type": "execute_result"
    }
   ],
   "source": [
    "group_data_count.groupby(['media_source', 'site_id', 'campaign'], as_index = False).count()"
   ]
  },
  {
   "cell_type": "code",
   "execution_count": 59,
   "metadata": {},
   "outputs": [
    {
     "data": {
      "text/plain": [
       "Index(['media_source', 'site_id', 'campaign', 'appsflyer_id',\n",
       "       'num_user_activity'],\n",
       "      dtype='object')"
      ]
     },
     "execution_count": 59,
     "metadata": {},
     "output_type": "execute_result"
    }
   ],
   "source": [
    "num_users.columns"
   ]
  },
  {
   "cell_type": "code",
   "execution_count": null,
   "metadata": {},
   "outputs": [],
   "source": []
  },
  {
   "cell_type": "code",
   "execution_count": 60,
   "metadata": {},
   "outputs": [],
   "source": [
    "num_users = num_users.rename(columns = {'num_user_activity':'num_users'})"
   ]
  },
  {
   "cell_type": "code",
   "execution_count": 61,
   "metadata": {},
   "outputs": [],
   "source": [
    "num_users_series = num_users['num_users']"
   ]
  },
  {
   "cell_type": "code",
   "execution_count": 62,
   "metadata": {},
   "outputs": [
    {
     "data": {
      "text/plain": [
       "0       21\n",
       "1        1\n",
       "2       35\n",
       "3        4\n",
       "4       24\n",
       "        ..\n",
       "3579     3\n",
       "3580     2\n",
       "3581     1\n",
       "3582     2\n",
       "3583     1\n",
       "Name: num_users, Length: 3584, dtype: int64"
      ]
     },
     "execution_count": 62,
     "metadata": {},
     "output_type": "execute_result"
    }
   ],
   "source": [
    "num_users_series"
   ]
  },
  {
   "cell_type": "code",
   "execution_count": 63,
   "metadata": {},
   "outputs": [],
   "source": [
    "group_stat = pd.concat([group_data_count_mean, num_users_series], axis = 1)"
   ]
  },
  {
   "cell_type": "code",
   "execution_count": 64,
   "metadata": {},
   "outputs": [
    {
     "data": {
      "text/html": [
       "<div>\n",
       "<style scoped>\n",
       "    .dataframe tbody tr th:only-of-type {\n",
       "        vertical-align: middle;\n",
       "    }\n",
       "\n",
       "    .dataframe tbody tr th {\n",
       "        vertical-align: top;\n",
       "    }\n",
       "\n",
       "    .dataframe thead th {\n",
       "        text-align: right;\n",
       "    }\n",
       "</style>\n",
       "<table border=\"1\" class=\"dataframe\">\n",
       "  <thead>\n",
       "    <tr style=\"text-align: right;\">\n",
       "      <th></th>\n",
       "      <th>media_source</th>\n",
       "      <th>site_id</th>\n",
       "      <th>campaign</th>\n",
       "      <th>mean_user_activity</th>\n",
       "      <th>num_users</th>\n",
       "    </tr>\n",
       "  </thead>\n",
       "  <tbody>\n",
       "    <tr>\n",
       "      <td>0</td>\n",
       "      <td>Adstarter</td>\n",
       "      <td>AaronEsser</td>\n",
       "      <td>Playcom_US_w11</td>\n",
       "      <td>2.142857</td>\n",
       "      <td>21</td>\n",
       "    </tr>\n",
       "    <tr>\n",
       "      <td>1</td>\n",
       "      <td>Adstarter</td>\n",
       "      <td>AliProductions</td>\n",
       "      <td>Playcom_US_w10</td>\n",
       "      <td>1.000000</td>\n",
       "      <td>1</td>\n",
       "    </tr>\n",
       "    <tr>\n",
       "      <td>2</td>\n",
       "      <td>Adstarter</td>\n",
       "      <td>Avive</td>\n",
       "      <td>Playcom_DE_w2</td>\n",
       "      <td>2.257143</td>\n",
       "      <td>35</td>\n",
       "    </tr>\n",
       "    <tr>\n",
       "      <td>3</td>\n",
       "      <td>Adstarter</td>\n",
       "      <td>B3nny</td>\n",
       "      <td>Playcom_DE_w2</td>\n",
       "      <td>2.750000</td>\n",
       "      <td>4</td>\n",
       "    </tr>\n",
       "    <tr>\n",
       "      <td>4</td>\n",
       "      <td>Adstarter</td>\n",
       "      <td>BeastyGames</td>\n",
       "      <td>Playcom_US_w10</td>\n",
       "      <td>3.208333</td>\n",
       "      <td>24</td>\n",
       "    </tr>\n",
       "    <tr>\n",
       "      <td>...</td>\n",
       "      <td>...</td>\n",
       "      <td>...</td>\n",
       "      <td>...</td>\n",
       "      <td>...</td>\n",
       "      <td>...</td>\n",
       "    </tr>\n",
       "    <tr>\n",
       "      <td>3579</td>\n",
       "      <td>Crossfaith</td>\n",
       "      <td>TCH_607_47_28304</td>\n",
       "      <td>WR_And_US_CPA</td>\n",
       "      <td>2.666667</td>\n",
       "      <td>3</td>\n",
       "    </tr>\n",
       "    <tr>\n",
       "      <td>3580</td>\n",
       "      <td>Crossfaith</td>\n",
       "      <td>TCH_607_47_28306</td>\n",
       "      <td>WR_And_US_CPA</td>\n",
       "      <td>2.000000</td>\n",
       "      <td>2</td>\n",
       "    </tr>\n",
       "    <tr>\n",
       "      <td>3581</td>\n",
       "      <td>Crossfaith</td>\n",
       "      <td>TCH_607_47_28309</td>\n",
       "      <td>WR_And_US_CPA</td>\n",
       "      <td>1.000000</td>\n",
       "      <td>1</td>\n",
       "    </tr>\n",
       "    <tr>\n",
       "      <td>3582</td>\n",
       "      <td>Crossfaith</td>\n",
       "      <td>TCH_607_47_28313</td>\n",
       "      <td>WR_And_US_CPA</td>\n",
       "      <td>3.000000</td>\n",
       "      <td>2</td>\n",
       "    </tr>\n",
       "    <tr>\n",
       "      <td>3583</td>\n",
       "      <td>Crossfaith</td>\n",
       "      <td>p1824</td>\n",
       "      <td>WR_And_US_CPA</td>\n",
       "      <td>1.000000</td>\n",
       "      <td>1</td>\n",
       "    </tr>\n",
       "  </tbody>\n",
       "</table>\n",
       "<p>3584 rows × 5 columns</p>\n",
       "</div>"
      ],
      "text/plain": [
       "     media_source           site_id        campaign  mean_user_activity  \\\n",
       "0       Adstarter        AaronEsser  Playcom_US_w11            2.142857   \n",
       "1       Adstarter    AliProductions  Playcom_US_w10            1.000000   \n",
       "2       Adstarter             Avive   Playcom_DE_w2            2.257143   \n",
       "3       Adstarter             B3nny   Playcom_DE_w2            2.750000   \n",
       "4       Adstarter       BeastyGames  Playcom_US_w10            3.208333   \n",
       "...           ...               ...             ...                 ...   \n",
       "3579   Crossfaith  TCH_607_47_28304   WR_And_US_CPA            2.666667   \n",
       "3580   Crossfaith  TCH_607_47_28306   WR_And_US_CPA            2.000000   \n",
       "3581   Crossfaith  TCH_607_47_28309   WR_And_US_CPA            1.000000   \n",
       "3582   Crossfaith  TCH_607_47_28313   WR_And_US_CPA            3.000000   \n",
       "3583   Crossfaith             p1824   WR_And_US_CPA            1.000000   \n",
       "\n",
       "      num_users  \n",
       "0            21  \n",
       "1             1  \n",
       "2            35  \n",
       "3             4  \n",
       "4            24  \n",
       "...         ...  \n",
       "3579          3  \n",
       "3580          2  \n",
       "3581          1  \n",
       "3582          2  \n",
       "3583          1  \n",
       "\n",
       "[3584 rows x 5 columns]"
      ]
     },
     "execution_count": 64,
     "metadata": {},
     "output_type": "execute_result"
    }
   ],
   "source": [
    "group_stat"
   ]
  },
  {
   "cell_type": "code",
   "execution_count": 65,
   "metadata": {},
   "outputs": [
    {
     "data": {
      "text/plain": [
       "<matplotlib.axes._subplots.AxesSubplot at 0x1c0461c8a48>"
      ]
     },
     "execution_count": 65,
     "metadata": {},
     "output_type": "execute_result"
    },
    {
     "data": {
      "image/png": "[encoded data removed]",
      "text/plain": [
       "<Figure size 720x360 with 1 Axes>"
      ]
     },
     "metadata": {
      "needs_background": "light"
     },
     "output_type": "display_data"
    }
   ],
   "source": [
    "plt.figure(figsize=(10,5)) #чтобы не мучать глазки\n",
    "sns.scatterplot(x = group_stat[group_stat['media_source']=='Adstarter']['mean_user_activity'], \n",
    "                y = group_stat['num_users'], alpha = 1)\n",
    "sns.scatterplot(x = group_stat[group_stat['media_source']=='Crossfaith']['mean_user_activity'],\n",
    "                y = group_stat['num_users'], alpha = 0.3)"
   ]
  },
  {
   "cell_type": "markdown",
   "metadata": {},
   "source": [
    "Уже видим скопления близко к точке (0, 0) и вдоль оси mean_user_activity при малых num_users"
   ]
  },
  {
   "cell_type": "markdown",
   "metadata": {},
   "source": [
    "Обрежем верхушку и исключим крайнюю точку справа (её активность связана с большим количеством внутриигровых покупок) и посмотрим более детально"
   ]
  },
  {
   "cell_type": "code",
   "execution_count": 66,
   "metadata": {},
   "outputs": [
    {
     "data": {
      "image/png": "[encoded data removed]",
      "text/plain": [
       "<Figure size 1440x720 with 1 Axes>"
      ]
     },
     "metadata": {
      "needs_background": "light"
     },
     "output_type": "display_data"
    }
   ],
   "source": [
    "plt.figure(figsize=(20,10)) #чтобы не мучать глазки\n",
    "graph = sns.scatterplot(x = group_stat['mean_user_activity'], y = group_stat['num_users'], hue = group_stat['media_source'], alpha = 0.1)\n",
    "plt.xlim(1, 4)\n",
    "plt.ylim(0, 150)\n",
    "plt.grid(True)\n",
    "plt.xticks(np.arange(0,6,0.25));\n",
    "# graph.set_yscale('log')"
   ]
  },
  {
   "cell_type": "markdown",
   "metadata": {},
   "source": [
    "\n",
    "\n",
    "Действительно, видим множество аномальных когорт, у которых \"event_name_mean\" равен 1 и большое количество привлечённых пользователей. То есть постинстальной активности у них никакой не было. Это однозначно фрод.\n"
   ]
  },
  {
   "cell_type": "markdown",
   "metadata": {},
   "source": [
    "Также видим странные узоры и высокий уровень активности в когортах при низком количестве юзеров в случае Crossfaith. \n",
    "По всей видимости, узоры - либо проявление дискретности результата средних значений при низком количестве пользователей в когорте. Аномальные уплотнения, вероятно, тоже могут быть фродами."
   ]
  },
  {
   "cell_type": "markdown",
   "metadata": {},
   "source": [
    "\n",
    "<h2>Однозначно фродовые когорты</h2>"
   ]
  },
  {
   "cell_type": "code",
   "execution_count": 67,
   "metadata": {},
   "outputs": [],
   "source": [
    "#Выделяю когорты с очень малой активностью и количеством юзеров > 10\n",
    "fraud = group_stat[(group_stat['mean_user_activity'] < 1.5) & (group_stat['num_users'] > 10)]"
   ]
  },
  {
   "cell_type": "code",
   "execution_count": 68,
   "metadata": {},
   "outputs": [
    {
     "data": {
      "text/html": [
       "<div>\n",
       "<style scoped>\n",
       "    .dataframe tbody tr th:only-of-type {\n",
       "        vertical-align: middle;\n",
       "    }\n",
       "\n",
       "    .dataframe tbody tr th {\n",
       "        vertical-align: top;\n",
       "    }\n",
       "\n",
       "    .dataframe thead th {\n",
       "        text-align: right;\n",
       "    }\n",
       "</style>\n",
       "<table border=\"1\" class=\"dataframe\">\n",
       "  <thead>\n",
       "    <tr style=\"text-align: right;\">\n",
       "      <th></th>\n",
       "      <th>media_source</th>\n",
       "      <th>site_id</th>\n",
       "      <th>campaign</th>\n",
       "      <th>mean_user_activity</th>\n",
       "      <th>num_users</th>\n",
       "    </tr>\n",
       "  </thead>\n",
       "  <tbody>\n",
       "    <tr>\n",
       "      <td>238</td>\n",
       "      <td>Crossfaith</td>\n",
       "      <td>Coach_1065</td>\n",
       "      <td>WR_And_JP_CPA</td>\n",
       "      <td>1.17094</td>\n",
       "      <td>117</td>\n",
       "    </tr>\n",
       "    <tr>\n",
       "      <td>243</td>\n",
       "      <td>Crossfaith</td>\n",
       "      <td>Coach_1227</td>\n",
       "      <td>WR_And_TW_CPA</td>\n",
       "      <td>1.00000</td>\n",
       "      <td>20</td>\n",
       "    </tr>\n",
       "    <tr>\n",
       "      <td>424</td>\n",
       "      <td>Crossfaith</td>\n",
       "      <td>Distortion_1880_524570119</td>\n",
       "      <td>WR_And_TW_CPA</td>\n",
       "      <td>1.00000</td>\n",
       "      <td>19</td>\n",
       "    </tr>\n",
       "    <tr>\n",
       "      <td>428</td>\n",
       "      <td>Crossfaith</td>\n",
       "      <td>Distortion_1880_539651133</td>\n",
       "      <td>WR_And_JP_CPA</td>\n",
       "      <td>1.00000</td>\n",
       "      <td>47</td>\n",
       "    </tr>\n",
       "    <tr>\n",
       "      <td>435</td>\n",
       "      <td>Crossfaith</td>\n",
       "      <td>Distortion_1880_554133064</td>\n",
       "      <td>WR_And_TW_CPA</td>\n",
       "      <td>1.00000</td>\n",
       "      <td>15</td>\n",
       "    </tr>\n",
       "    <tr>\n",
       "      <td>...</td>\n",
       "      <td>...</td>\n",
       "      <td>...</td>\n",
       "      <td>...</td>\n",
       "      <td>...</td>\n",
       "      <td>...</td>\n",
       "    </tr>\n",
       "    <tr>\n",
       "      <td>3517</td>\n",
       "      <td>Crossfaith</td>\n",
       "      <td>TCH_570_91_2711</td>\n",
       "      <td>WR_And_JP_CPA</td>\n",
       "      <td>1.00000</td>\n",
       "      <td>37</td>\n",
       "    </tr>\n",
       "    <tr>\n",
       "      <td>3518</td>\n",
       "      <td>Crossfaith</td>\n",
       "      <td>TCH_570_91_2713</td>\n",
       "      <td>WR_And_JP_CPA</td>\n",
       "      <td>1.00000</td>\n",
       "      <td>49</td>\n",
       "    </tr>\n",
       "    <tr>\n",
       "      <td>3526</td>\n",
       "      <td>Crossfaith</td>\n",
       "      <td>TCH_582_1300-u34j45u9gt</td>\n",
       "      <td>WR_And_JP_CPA</td>\n",
       "      <td>1.00000</td>\n",
       "      <td>19</td>\n",
       "    </tr>\n",
       "    <tr>\n",
       "      <td>3529</td>\n",
       "      <td>Crossfaith</td>\n",
       "      <td>TCH_582_4412-TeIW9D-CcH</td>\n",
       "      <td>WR_And_JP_CPA</td>\n",
       "      <td>1.00000</td>\n",
       "      <td>18</td>\n",
       "    </tr>\n",
       "    <tr>\n",
       "      <td>3530</td>\n",
       "      <td>Crossfaith</td>\n",
       "      <td>TCH_582_4653-M-3CeiuD5-</td>\n",
       "      <td>WR_And_JP_CPA</td>\n",
       "      <td>1.00000</td>\n",
       "      <td>19</td>\n",
       "    </tr>\n",
       "  </tbody>\n",
       "</table>\n",
       "<p>65 rows × 5 columns</p>\n",
       "</div>"
      ],
      "text/plain": [
       "     media_source                    site_id       campaign  \\\n",
       "238    Crossfaith                 Coach_1065  WR_And_JP_CPA   \n",
       "243    Crossfaith                 Coach_1227  WR_And_TW_CPA   \n",
       "424    Crossfaith  Distortion_1880_524570119  WR_And_TW_CPA   \n",
       "428    Crossfaith  Distortion_1880_539651133  WR_And_JP_CPA   \n",
       "435    Crossfaith  Distortion_1880_554133064  WR_And_TW_CPA   \n",
       "...           ...                        ...            ...   \n",
       "3517   Crossfaith            TCH_570_91_2711  WR_And_JP_CPA   \n",
       "3518   Crossfaith            TCH_570_91_2713  WR_And_JP_CPA   \n",
       "3526   Crossfaith    TCH_582_1300-u34j45u9gt  WR_And_JP_CPA   \n",
       "3529   Crossfaith    TCH_582_4412-TeIW9D-CcH  WR_And_JP_CPA   \n",
       "3530   Crossfaith    TCH_582_4653-M-3CeiuD5-  WR_And_JP_CPA   \n",
       "\n",
       "      mean_user_activity  num_users  \n",
       "238              1.17094        117  \n",
       "243              1.00000         20  \n",
       "424              1.00000         19  \n",
       "428              1.00000         47  \n",
       "435              1.00000         15  \n",
       "...                  ...        ...  \n",
       "3517             1.00000         37  \n",
       "3518             1.00000         49  \n",
       "3526             1.00000         19  \n",
       "3529             1.00000         18  \n",
       "3530             1.00000         19  \n",
       "\n",
       "[65 rows x 5 columns]"
      ]
     },
     "execution_count": 68,
     "metadata": {},
     "output_type": "execute_result"
    }
   ],
   "source": [
    "fraud"
   ]
  },
  {
   "cell_type": "code",
   "execution_count": 69,
   "metadata": {},
   "outputs": [
    {
     "data": {
      "text/plain": [
       "2890"
      ]
     },
     "execution_count": 69,
     "metadata": {},
     "output_type": "execute_result"
    }
   ],
   "source": [
    "fraud.num_users.sum()"
   ]
  },
  {
   "cell_type": "markdown",
   "metadata": {},
   "source": [
    "В выявленных фродовых когортах 2890 пользователей"
   ]
  }
 ],
 "metadata": {
  "kernelspec": {
   "display_name": "Python 3",
   "language": "python",
   "name": "python3"
  },
  "language_info": {
   "codemirror_mode": {
    "name": "ipython",
    "version": 3
   },
   "file_extension": ".py",
   "mimetype": "text/x-python",
   "name": "python",
   "nbconvert_exporter": "python",
   "pygments_lexer": "ipython3",
   "version": "3.7.4"
  }
 },
 "nbformat": 4,
 "nbformat_minor": 2
}
