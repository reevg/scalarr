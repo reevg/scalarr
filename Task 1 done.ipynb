{
 "cells": [
  {
   "cell_type": "markdown",
   "metadata": {},
   "source": [
    "<h2><center>Описание</center></h2>"
   ]
  },
  {
   "cell_type": "markdown",
   "metadata": {},
   "source": [
    "Датасет Data_1 содержит следующие столбцы:\n",
    "- conversion_unique_id - уникальный идентификатор установки (юзера)\n",
    "- conversion_datetime - время, когда была произведена установка\n",
    "- attributed_touch_time - время, когда юзер (в последствии установивший приложение) взаимодействовал с рекламным объявлением"
   ]
  },
  {
   "cell_type": "markdown",
   "metadata": {},
   "source": [
    "<h2><center>Задание</center></h2>"
   ]
  },
  {
   "cell_type": "markdown",
   "metadata": {},
   "source": [
    "Необходимо создать столбец tti (time to install) и рассчитать в нем:\n",
    "- для каждой установки разницу между временем установки и временем взаимодействия с\n",
    "рекламой\n",
    "- После этого на отдельной вкладке построить PDF (probability density function) распределение значений tti в логарифмическом распределение (0 - 10с - 100с - 1000с - 10000с - 100000с)\n"
   ]
  },
  {
   "cell_type": "code",
   "execution_count": 1,
   "metadata": {},
   "outputs": [],
   "source": [
    "import pandas as pd\n",
    "import numpy as np\n",
    "import datetime as dt"
   ]
  },
  {
   "cell_type": "markdown",
   "metadata": {},
   "source": [
    "**Считываем данные + парсим колонки с датами**\n"
   ]
  },
  {
   "cell_type": "code",
   "execution_count": 2,
   "metadata": {},
   "outputs": [],
   "source": [
    "data1 = pd.read_excel(\"Data_1 (+).xlsx\", index_col = \"conversion_unique_id\", \n",
    "                      parse_dates=['conversion_datetime', 'attributed_touch_time'])"
   ]
  },
  {
   "cell_type": "code",
   "execution_count": 3,
   "metadata": {},
   "outputs": [
    {
     "data": {
      "text/html": [
       "<div>\n",
       "<style scoped>\n",
       "    .dataframe tbody tr th:only-of-type {\n",
       "        vertical-align: middle;\n",
       "    }\n",
       "\n",
       "    .dataframe tbody tr th {\n",
       "        vertical-align: top;\n",
       "    }\n",
       "\n",
       "    .dataframe thead th {\n",
       "        text-align: right;\n",
       "    }\n",
       "</style>\n",
       "<table border=\"1\" class=\"dataframe\">\n",
       "  <thead>\n",
       "    <tr style=\"text-align: right;\">\n",
       "      <th></th>\n",
       "      <th>conversion_datetime</th>\n",
       "      <th>attributed_touch_time</th>\n",
       "      <th>offer_id</th>\n",
       "      <th>publisher_id</th>\n",
       "    </tr>\n",
       "    <tr>\n",
       "      <th>conversion_unique_id</th>\n",
       "      <th></th>\n",
       "      <th></th>\n",
       "      <th></th>\n",
       "      <th></th>\n",
       "    </tr>\n",
       "  </thead>\n",
       "  <tbody>\n",
       "    <tr>\n",
       "      <td>001c675c7cdb23b2cf9d6316aebba2ab0222339b</td>\n",
       "      <td>2019-01-04 01:06:23</td>\n",
       "      <td>2019-01-03 21:56:15</td>\n",
       "      <td>APP</td>\n",
       "      <td>Publisher</td>\n",
       "    </tr>\n",
       "    <tr>\n",
       "      <td>007c9a5411442400766cd0f5d0807da5ccfe06d1</td>\n",
       "      <td>2019-01-03 12:19:43</td>\n",
       "      <td>2019-01-03 11:10:33</td>\n",
       "      <td>APP</td>\n",
       "      <td>Publisher</td>\n",
       "    </tr>\n",
       "    <tr>\n",
       "      <td>019b86102e6aad24386922e6d5227c215f688c43</td>\n",
       "      <td>2019-01-03 05:36:11</td>\n",
       "      <td>2019-01-02 23:51:06</td>\n",
       "      <td>APP</td>\n",
       "      <td>Publisher</td>\n",
       "    </tr>\n",
       "    <tr>\n",
       "      <td>019e123a977fbf9676e9598c1534eda98fc1db5d</td>\n",
       "      <td>2019-01-06 13:47:34</td>\n",
       "      <td>2019-01-06 12:46:24</td>\n",
       "      <td>APP</td>\n",
       "      <td>Publisher</td>\n",
       "    </tr>\n",
       "    <tr>\n",
       "      <td>01cd0016a3719bd60d0c6542e98aafd458a8430f</td>\n",
       "      <td>2019-01-03 21:34:42</td>\n",
       "      <td>2019-01-03 21:32:52</td>\n",
       "      <td>APP</td>\n",
       "      <td>Publisher</td>\n",
       "    </tr>\n",
       "  </tbody>\n",
       "</table>\n",
       "</div>"
      ],
      "text/plain": [
       "                                         conversion_datetime  \\\n",
       "conversion_unique_id                                           \n",
       "001c675c7cdb23b2cf9d6316aebba2ab0222339b 2019-01-04 01:06:23   \n",
       "007c9a5411442400766cd0f5d0807da5ccfe06d1 2019-01-03 12:19:43   \n",
       "019b86102e6aad24386922e6d5227c215f688c43 2019-01-03 05:36:11   \n",
       "019e123a977fbf9676e9598c1534eda98fc1db5d 2019-01-06 13:47:34   \n",
       "01cd0016a3719bd60d0c6542e98aafd458a8430f 2019-01-03 21:34:42   \n",
       "\n",
       "                                         attributed_touch_time offer_id  \\\n",
       "conversion_unique_id                                                      \n",
       "001c675c7cdb23b2cf9d6316aebba2ab0222339b   2019-01-03 21:56:15      APP   \n",
       "007c9a5411442400766cd0f5d0807da5ccfe06d1   2019-01-03 11:10:33      APP   \n",
       "019b86102e6aad24386922e6d5227c215f688c43   2019-01-02 23:51:06      APP   \n",
       "019e123a977fbf9676e9598c1534eda98fc1db5d   2019-01-06 12:46:24      APP   \n",
       "01cd0016a3719bd60d0c6542e98aafd458a8430f   2019-01-03 21:32:52      APP   \n",
       "\n",
       "                                         publisher_id  \n",
       "conversion_unique_id                                   \n",
       "001c675c7cdb23b2cf9d6316aebba2ab0222339b    Publisher  \n",
       "007c9a5411442400766cd0f5d0807da5ccfe06d1    Publisher  \n",
       "019b86102e6aad24386922e6d5227c215f688c43    Publisher  \n",
       "019e123a977fbf9676e9598c1534eda98fc1db5d    Publisher  \n",
       "01cd0016a3719bd60d0c6542e98aafd458a8430f    Publisher  "
      ]
     },
     "execution_count": 3,
     "metadata": {},
     "output_type": "execute_result"
    }
   ],
   "source": [
    "data1.head()"
   ]
  },
  {
   "cell_type": "markdown",
   "metadata": {},
   "source": [
    "**Чекаем что у нас по датасету**\n"
   ]
  },
  {
   "cell_type": "code",
   "execution_count": 4,
   "metadata": {},
   "outputs": [
    {
     "data": {
      "text/html": [
       "<div>\n",
       "<style scoped>\n",
       "    .dataframe tbody tr th:only-of-type {\n",
       "        vertical-align: middle;\n",
       "    }\n",
       "\n",
       "    .dataframe tbody tr th {\n",
       "        vertical-align: top;\n",
       "    }\n",
       "\n",
       "    .dataframe thead th {\n",
       "        text-align: right;\n",
       "    }\n",
       "</style>\n",
       "<table border=\"1\" class=\"dataframe\">\n",
       "  <thead>\n",
       "    <tr style=\"text-align: right;\">\n",
       "      <th></th>\n",
       "      <th>conversion_datetime</th>\n",
       "      <th>attributed_touch_time</th>\n",
       "      <th>offer_id</th>\n",
       "      <th>publisher_id</th>\n",
       "    </tr>\n",
       "  </thead>\n",
       "  <tbody>\n",
       "    <tr>\n",
       "      <td>count</td>\n",
       "      <td>1059</td>\n",
       "      <td>1059</td>\n",
       "      <td>1059</td>\n",
       "      <td>1059</td>\n",
       "    </tr>\n",
       "    <tr>\n",
       "      <td>unique</td>\n",
       "      <td>1053</td>\n",
       "      <td>1056</td>\n",
       "      <td>1</td>\n",
       "      <td>1</td>\n",
       "    </tr>\n",
       "    <tr>\n",
       "      <td>top</td>\n",
       "      <td>2019-01-03 08:39:22</td>\n",
       "      <td>2019-01-04 11:41:28</td>\n",
       "      <td>APP</td>\n",
       "      <td>Publisher</td>\n",
       "    </tr>\n",
       "    <tr>\n",
       "      <td>freq</td>\n",
       "      <td>2</td>\n",
       "      <td>2</td>\n",
       "      <td>1059</td>\n",
       "      <td>1059</td>\n",
       "    </tr>\n",
       "    <tr>\n",
       "      <td>first</td>\n",
       "      <td>2019-01-03 00:01:42</td>\n",
       "      <td>2018-12-27 19:05:03</td>\n",
       "      <td>NaN</td>\n",
       "      <td>NaN</td>\n",
       "    </tr>\n",
       "    <tr>\n",
       "      <td>last</td>\n",
       "      <td>2019-01-06 23:10:05</td>\n",
       "      <td>2019-01-06 22:29:22</td>\n",
       "      <td>NaN</td>\n",
       "      <td>NaN</td>\n",
       "    </tr>\n",
       "  </tbody>\n",
       "</table>\n",
       "</div>"
      ],
      "text/plain": [
       "        conversion_datetime attributed_touch_time offer_id publisher_id\n",
       "count                  1059                  1059     1059         1059\n",
       "unique                 1053                  1056        1            1\n",
       "top     2019-01-03 08:39:22   2019-01-04 11:41:28      APP    Publisher\n",
       "freq                      2                     2     1059         1059\n",
       "first   2019-01-03 00:01:42   2018-12-27 19:05:03      NaN          NaN\n",
       "last    2019-01-06 23:10:05   2019-01-06 22:29:22      NaN          NaN"
      ]
     },
     "execution_count": 4,
     "metadata": {},
     "output_type": "execute_result"
    }
   ],
   "source": [
    "data1.describe()"
   ]
  },
  {
   "cell_type": "code",
   "execution_count": 5,
   "metadata": {},
   "outputs": [
    {
     "name": "stdout",
     "output_type": "stream",
     "text": [
      "<class 'pandas.core.frame.DataFrame'>\n",
      "Index: 1059 entries, 001c675c7cdb23b2cf9d6316aebba2ab0222339b to ffb3870cafc7514d05a74dd276ef4f18c163afa6\n",
      "Data columns (total 4 columns):\n",
      "conversion_datetime      1059 non-null datetime64[ns]\n",
      "attributed_touch_time    1059 non-null datetime64[ns]\n",
      "offer_id                 1059 non-null object\n",
      "publisher_id             1059 non-null object\n",
      "dtypes: datetime64[ns](2), object(2)\n",
      "memory usage: 41.4+ KB\n"
     ]
    }
   ],
   "source": [
    "data1.info()"
   ]
  },
  {
   "cell_type": "markdown",
   "metadata": {},
   "source": [
    "**Создаём новую колонку time to install (tti)**"
   ]
  },
  {
   "cell_type": "code",
   "execution_count": 6,
   "metadata": {},
   "outputs": [],
   "source": [
    "data1['tti'] = data1['conversion_datetime'] - data1['attributed_touch_time'] "
   ]
  },
  {
   "cell_type": "code",
   "execution_count": 7,
   "metadata": {},
   "outputs": [
    {
     "data": {
      "text/html": [
       "<div>\n",
       "<style scoped>\n",
       "    .dataframe tbody tr th:only-of-type {\n",
       "        vertical-align: middle;\n",
       "    }\n",
       "\n",
       "    .dataframe tbody tr th {\n",
       "        vertical-align: top;\n",
       "    }\n",
       "\n",
       "    .dataframe thead th {\n",
       "        text-align: right;\n",
       "    }\n",
       "</style>\n",
       "<table border=\"1\" class=\"dataframe\">\n",
       "  <thead>\n",
       "    <tr style=\"text-align: right;\">\n",
       "      <th></th>\n",
       "      <th>conversion_datetime</th>\n",
       "      <th>attributed_touch_time</th>\n",
       "      <th>offer_id</th>\n",
       "      <th>publisher_id</th>\n",
       "      <th>tti</th>\n",
       "    </tr>\n",
       "    <tr>\n",
       "      <th>conversion_unique_id</th>\n",
       "      <th></th>\n",
       "      <th></th>\n",
       "      <th></th>\n",
       "      <th></th>\n",
       "      <th></th>\n",
       "    </tr>\n",
       "  </thead>\n",
       "  <tbody>\n",
       "    <tr>\n",
       "      <td>001c675c7cdb23b2cf9d6316aebba2ab0222339b</td>\n",
       "      <td>2019-01-04 01:06:23</td>\n",
       "      <td>2019-01-03 21:56:15</td>\n",
       "      <td>APP</td>\n",
       "      <td>Publisher</td>\n",
       "      <td>03:10:08</td>\n",
       "    </tr>\n",
       "    <tr>\n",
       "      <td>007c9a5411442400766cd0f5d0807da5ccfe06d1</td>\n",
       "      <td>2019-01-03 12:19:43</td>\n",
       "      <td>2019-01-03 11:10:33</td>\n",
       "      <td>APP</td>\n",
       "      <td>Publisher</td>\n",
       "      <td>01:09:10</td>\n",
       "    </tr>\n",
       "    <tr>\n",
       "      <td>019b86102e6aad24386922e6d5227c215f688c43</td>\n",
       "      <td>2019-01-03 05:36:11</td>\n",
       "      <td>2019-01-02 23:51:06</td>\n",
       "      <td>APP</td>\n",
       "      <td>Publisher</td>\n",
       "      <td>05:45:05</td>\n",
       "    </tr>\n",
       "    <tr>\n",
       "      <td>019e123a977fbf9676e9598c1534eda98fc1db5d</td>\n",
       "      <td>2019-01-06 13:47:34</td>\n",
       "      <td>2019-01-06 12:46:24</td>\n",
       "      <td>APP</td>\n",
       "      <td>Publisher</td>\n",
       "      <td>01:01:10</td>\n",
       "    </tr>\n",
       "    <tr>\n",
       "      <td>01cd0016a3719bd60d0c6542e98aafd458a8430f</td>\n",
       "      <td>2019-01-03 21:34:42</td>\n",
       "      <td>2019-01-03 21:32:52</td>\n",
       "      <td>APP</td>\n",
       "      <td>Publisher</td>\n",
       "      <td>00:01:50</td>\n",
       "    </tr>\n",
       "  </tbody>\n",
       "</table>\n",
       "</div>"
      ],
      "text/plain": [
       "                                         conversion_datetime  \\\n",
       "conversion_unique_id                                           \n",
       "001c675c7cdb23b2cf9d6316aebba2ab0222339b 2019-01-04 01:06:23   \n",
       "007c9a5411442400766cd0f5d0807da5ccfe06d1 2019-01-03 12:19:43   \n",
       "019b86102e6aad24386922e6d5227c215f688c43 2019-01-03 05:36:11   \n",
       "019e123a977fbf9676e9598c1534eda98fc1db5d 2019-01-06 13:47:34   \n",
       "01cd0016a3719bd60d0c6542e98aafd458a8430f 2019-01-03 21:34:42   \n",
       "\n",
       "                                         attributed_touch_time offer_id  \\\n",
       "conversion_unique_id                                                      \n",
       "001c675c7cdb23b2cf9d6316aebba2ab0222339b   2019-01-03 21:56:15      APP   \n",
       "007c9a5411442400766cd0f5d0807da5ccfe06d1   2019-01-03 11:10:33      APP   \n",
       "019b86102e6aad24386922e6d5227c215f688c43   2019-01-02 23:51:06      APP   \n",
       "019e123a977fbf9676e9598c1534eda98fc1db5d   2019-01-06 12:46:24      APP   \n",
       "01cd0016a3719bd60d0c6542e98aafd458a8430f   2019-01-03 21:32:52      APP   \n",
       "\n",
       "                                         publisher_id      tti  \n",
       "conversion_unique_id                                            \n",
       "001c675c7cdb23b2cf9d6316aebba2ab0222339b    Publisher 03:10:08  \n",
       "007c9a5411442400766cd0f5d0807da5ccfe06d1    Publisher 01:09:10  \n",
       "019b86102e6aad24386922e6d5227c215f688c43    Publisher 05:45:05  \n",
       "019e123a977fbf9676e9598c1534eda98fc1db5d    Publisher 01:01:10  \n",
       "01cd0016a3719bd60d0c6542e98aafd458a8430f    Publisher 00:01:50  "
      ]
     },
     "execution_count": 7,
     "metadata": {},
     "output_type": "execute_result"
    }
   ],
   "source": [
    "data1.head()"
   ]
  },
  {
   "cell_type": "markdown",
   "metadata": {},
   "source": [
    "**Бахаю tti в секунды и пуляю в очередную новую колонку**"
   ]
  },
  {
   "cell_type": "code",
   "execution_count": 8,
   "metadata": {},
   "outputs": [],
   "source": [
    "data1['tti_seconds'] = data1['tti'].dt.total_seconds()"
   ]
  },
  {
   "cell_type": "code",
   "execution_count": 9,
   "metadata": {},
   "outputs": [
    {
     "data": {
      "text/html": [
       "<div>\n",
       "<style scoped>\n",
       "    .dataframe tbody tr th:only-of-type {\n",
       "        vertical-align: middle;\n",
       "    }\n",
       "\n",
       "    .dataframe tbody tr th {\n",
       "        vertical-align: top;\n",
       "    }\n",
       "\n",
       "    .dataframe thead th {\n",
       "        text-align: right;\n",
       "    }\n",
       "</style>\n",
       "<table border=\"1\" class=\"dataframe\">\n",
       "  <thead>\n",
       "    <tr style=\"text-align: right;\">\n",
       "      <th></th>\n",
       "      <th>conversion_datetime</th>\n",
       "      <th>attributed_touch_time</th>\n",
       "      <th>offer_id</th>\n",
       "      <th>publisher_id</th>\n",
       "      <th>tti</th>\n",
       "      <th>tti_seconds</th>\n",
       "    </tr>\n",
       "    <tr>\n",
       "      <th>conversion_unique_id</th>\n",
       "      <th></th>\n",
       "      <th></th>\n",
       "      <th></th>\n",
       "      <th></th>\n",
       "      <th></th>\n",
       "      <th></th>\n",
       "    </tr>\n",
       "  </thead>\n",
       "  <tbody>\n",
       "    <tr>\n",
       "      <td>001c675c7cdb23b2cf9d6316aebba2ab0222339b</td>\n",
       "      <td>2019-01-04 01:06:23</td>\n",
       "      <td>2019-01-03 21:56:15</td>\n",
       "      <td>APP</td>\n",
       "      <td>Publisher</td>\n",
       "      <td>03:10:08</td>\n",
       "      <td>11408.0</td>\n",
       "    </tr>\n",
       "    <tr>\n",
       "      <td>007c9a5411442400766cd0f5d0807da5ccfe06d1</td>\n",
       "      <td>2019-01-03 12:19:43</td>\n",
       "      <td>2019-01-03 11:10:33</td>\n",
       "      <td>APP</td>\n",
       "      <td>Publisher</td>\n",
       "      <td>01:09:10</td>\n",
       "      <td>4150.0</td>\n",
       "    </tr>\n",
       "    <tr>\n",
       "      <td>019b86102e6aad24386922e6d5227c215f688c43</td>\n",
       "      <td>2019-01-03 05:36:11</td>\n",
       "      <td>2019-01-02 23:51:06</td>\n",
       "      <td>APP</td>\n",
       "      <td>Publisher</td>\n",
       "      <td>05:45:05</td>\n",
       "      <td>20705.0</td>\n",
       "    </tr>\n",
       "    <tr>\n",
       "      <td>019e123a977fbf9676e9598c1534eda98fc1db5d</td>\n",
       "      <td>2019-01-06 13:47:34</td>\n",
       "      <td>2019-01-06 12:46:24</td>\n",
       "      <td>APP</td>\n",
       "      <td>Publisher</td>\n",
       "      <td>01:01:10</td>\n",
       "      <td>3670.0</td>\n",
       "    </tr>\n",
       "    <tr>\n",
       "      <td>01cd0016a3719bd60d0c6542e98aafd458a8430f</td>\n",
       "      <td>2019-01-03 21:34:42</td>\n",
       "      <td>2019-01-03 21:32:52</td>\n",
       "      <td>APP</td>\n",
       "      <td>Publisher</td>\n",
       "      <td>00:01:50</td>\n",
       "      <td>110.0</td>\n",
       "    </tr>\n",
       "  </tbody>\n",
       "</table>\n",
       "</div>"
      ],
      "text/plain": [
       "                                         conversion_datetime  \\\n",
       "conversion_unique_id                                           \n",
       "001c675c7cdb23b2cf9d6316aebba2ab0222339b 2019-01-04 01:06:23   \n",
       "007c9a5411442400766cd0f5d0807da5ccfe06d1 2019-01-03 12:19:43   \n",
       "019b86102e6aad24386922e6d5227c215f688c43 2019-01-03 05:36:11   \n",
       "019e123a977fbf9676e9598c1534eda98fc1db5d 2019-01-06 13:47:34   \n",
       "01cd0016a3719bd60d0c6542e98aafd458a8430f 2019-01-03 21:34:42   \n",
       "\n",
       "                                         attributed_touch_time offer_id  \\\n",
       "conversion_unique_id                                                      \n",
       "001c675c7cdb23b2cf9d6316aebba2ab0222339b   2019-01-03 21:56:15      APP   \n",
       "007c9a5411442400766cd0f5d0807da5ccfe06d1   2019-01-03 11:10:33      APP   \n",
       "019b86102e6aad24386922e6d5227c215f688c43   2019-01-02 23:51:06      APP   \n",
       "019e123a977fbf9676e9598c1534eda98fc1db5d   2019-01-06 12:46:24      APP   \n",
       "01cd0016a3719bd60d0c6542e98aafd458a8430f   2019-01-03 21:32:52      APP   \n",
       "\n",
       "                                         publisher_id      tti  tti_seconds  \n",
       "conversion_unique_id                                                         \n",
       "001c675c7cdb23b2cf9d6316aebba2ab0222339b    Publisher 03:10:08      11408.0  \n",
       "007c9a5411442400766cd0f5d0807da5ccfe06d1    Publisher 01:09:10       4150.0  \n",
       "019b86102e6aad24386922e6d5227c215f688c43    Publisher 05:45:05      20705.0  \n",
       "019e123a977fbf9676e9598c1534eda98fc1db5d    Publisher 01:01:10       3670.0  \n",
       "01cd0016a3719bd60d0c6542e98aafd458a8430f    Publisher 00:01:50        110.0  "
      ]
     },
     "execution_count": 9,
     "metadata": {},
     "output_type": "execute_result"
    }
   ],
   "source": [
    "data1.head()"
   ]
  },
  {
   "cell_type": "markdown",
   "metadata": {},
   "source": [
    "**Чисто из интереса смотрим что у нас по распределениям значений**"
   ]
  },
  {
   "cell_type": "code",
   "execution_count": 10,
   "metadata": {},
   "outputs": [
    {
     "data": {
      "text/plain": [
       "count      1059.000000\n",
       "mean      21651.459868\n",
       "std       69051.614924\n",
       "min           2.000000\n",
       "25%        1726.500000\n",
       "50%        7801.000000\n",
       "75%       15896.000000\n",
       "max      585535.000000\n",
       "Name: tti_seconds, dtype: float64"
      ]
     },
     "execution_count": 10,
     "metadata": {},
     "output_type": "execute_result"
    }
   ],
   "source": [
    "data1.tti_seconds.describe()"
   ]
  },
  {
   "cell_type": "markdown",
   "metadata": {},
   "source": [
    "**Строим график вероятностного распределения**"
   ]
  },
  {
   "cell_type": "code",
   "execution_count": 11,
   "metadata": {},
   "outputs": [],
   "source": [
    "import seaborn as sns\n",
    "import matplotlib.pyplot as plt\n",
    "\n",
    "plt.figure(figsize=(15,8)) #чтобы не мучать глазки\n",
    "proba_plot = sns.distplot(data1['tti_seconds'], bins = len(data1['tti_seconds']))\n",
    "proba_plot.set_title('Probability dension log 10')\n",
    "proba_plot.set(ylabel = \"Probability\")\n",
    "proba_plot.set_xscale('log') #Масштабирую ось по Х\n",
    "\n"
   ]
  },
  {
   "cell_type": "markdown",
   "metadata": {},
   "source": [
    "Не совсем то, что хотелось бы"
   ]
  },
  {
   "cell_type": "code",
   "execution_count": null,
   "metadata": {},
   "outputs": [],
   "source": []
  },
  {
   "cell_type": "code",
   "execution_count": 31,
   "metadata": {},
   "outputs": [],
   "source": [
    "#Список с нужными нам диапазонами\n",
    "diap_list = [[0,1], [1, 10], [10, 100], [100,1000], [1000,10000], [10000, 100000], [100000, np.inf]]"
   ]
  },
  {
   "cell_type": "code",
   "execution_count": 32,
   "metadata": {},
   "outputs": [],
   "source": [
    "log_time_diap = pd.DataFrame()"
   ]
  },
  {
   "cell_type": "code",
   "execution_count": 33,
   "metadata": {},
   "outputs": [],
   "source": [
    "#Добавляем данные в таблицу\n",
    "for el in diap_list:\n",
    "    data1[str(el[0])+'_'+str(el[1])] = data1['tti_seconds'].apply(lambda x :  int((x > el[0]) and (x <= el[1])))"
   ]
  },
  {
   "cell_type": "code",
   "execution_count": 34,
   "metadata": {},
   "outputs": [],
   "source": [
    "log_time_col = data1.columns[-7:]"
   ]
  },
  {
   "cell_type": "code",
   "execution_count": 35,
   "metadata": {},
   "outputs": [
    {
     "data": {
      "text/plain": [
       "Index(['0_1', '1_10', '10_100', '100_1000', '1000_10000', '10000_100000',\n",
       "       '100000_inf'],\n",
       "      dtype='object')"
      ]
     },
     "execution_count": 35,
     "metadata": {},
     "output_type": "execute_result"
    }
   ],
   "source": [
    "log_time_col"
   ]
  },
  {
   "cell_type": "code",
   "execution_count": 36,
   "metadata": {},
   "outputs": [],
   "source": [
    "log_time = pd.DataFrame(data1[log_time_col].sum(), columns = ['num'])"
   ]
  },
  {
   "cell_type": "code",
   "execution_count": 37,
   "metadata": {},
   "outputs": [
    {
     "data": {
      "text/html": [
       "<div>\n",
       "<style scoped>\n",
       "    .dataframe tbody tr th:only-of-type {\n",
       "        vertical-align: middle;\n",
       "    }\n",
       "\n",
       "    .dataframe tbody tr th {\n",
       "        vertical-align: top;\n",
       "    }\n",
       "\n",
       "    .dataframe thead th {\n",
       "        text-align: right;\n",
       "    }\n",
       "</style>\n",
       "<table border=\"1\" class=\"dataframe\">\n",
       "  <thead>\n",
       "    <tr style=\"text-align: right;\">\n",
       "      <th></th>\n",
       "      <th>num</th>\n",
       "    </tr>\n",
       "  </thead>\n",
       "  <tbody>\n",
       "    <tr>\n",
       "      <td>0_1</td>\n",
       "      <td>0</td>\n",
       "    </tr>\n",
       "    <tr>\n",
       "      <td>1_10</td>\n",
       "      <td>4</td>\n",
       "    </tr>\n",
       "    <tr>\n",
       "      <td>10_100</td>\n",
       "      <td>64</td>\n",
       "    </tr>\n",
       "    <tr>\n",
       "      <td>100_1000</td>\n",
       "      <td>162</td>\n",
       "    </tr>\n",
       "    <tr>\n",
       "      <td>1000_10000</td>\n",
       "      <td>365</td>\n",
       "    </tr>\n",
       "    <tr>\n",
       "      <td>10000_100000</td>\n",
       "      <td>431</td>\n",
       "    </tr>\n",
       "    <tr>\n",
       "      <td>100000_inf</td>\n",
       "      <td>33</td>\n",
       "    </tr>\n",
       "  </tbody>\n",
       "</table>\n",
       "</div>"
      ],
      "text/plain": [
       "              num\n",
       "0_1             0\n",
       "1_10            4\n",
       "10_100         64\n",
       "100_1000      162\n",
       "1000_10000    365\n",
       "10000_100000  431\n",
       "100000_inf     33"
      ]
     },
     "execution_count": 37,
     "metadata": {},
     "output_type": "execute_result"
    }
   ],
   "source": [
    "log_time"
   ]
  },
  {
   "cell_type": "code",
   "execution_count": 38,
   "metadata": {},
   "outputs": [],
   "source": [
    "log_time['proba'] = log_time['num']/data1.shape[0]"
   ]
  },
  {
   "cell_type": "code",
   "execution_count": 39,
   "metadata": {},
   "outputs": [
    {
     "data": {
      "text/html": [
       "<div>\n",
       "<style scoped>\n",
       "    .dataframe tbody tr th:only-of-type {\n",
       "        vertical-align: middle;\n",
       "    }\n",
       "\n",
       "    .dataframe tbody tr th {\n",
       "        vertical-align: top;\n",
       "    }\n",
       "\n",
       "    .dataframe thead th {\n",
       "        text-align: right;\n",
       "    }\n",
       "</style>\n",
       "<table border=\"1\" class=\"dataframe\">\n",
       "  <thead>\n",
       "    <tr style=\"text-align: right;\">\n",
       "      <th></th>\n",
       "      <th>0_1</th>\n",
       "      <th>1_10</th>\n",
       "      <th>10_100</th>\n",
       "      <th>100_1000</th>\n",
       "      <th>1000_10000</th>\n",
       "      <th>10000_100000</th>\n",
       "      <th>100000_inf</th>\n",
       "    </tr>\n",
       "  </thead>\n",
       "  <tbody>\n",
       "    <tr>\n",
       "      <td>num</td>\n",
       "      <td>0.0</td>\n",
       "      <td>4.000000</td>\n",
       "      <td>64.000000</td>\n",
       "      <td>162.000000</td>\n",
       "      <td>365.000000</td>\n",
       "      <td>431.000000</td>\n",
       "      <td>33.000000</td>\n",
       "    </tr>\n",
       "    <tr>\n",
       "      <td>proba</td>\n",
       "      <td>0.0</td>\n",
       "      <td>0.003777</td>\n",
       "      <td>0.060434</td>\n",
       "      <td>0.152975</td>\n",
       "      <td>0.344665</td>\n",
       "      <td>0.406988</td>\n",
       "      <td>0.031161</td>\n",
       "    </tr>\n",
       "  </tbody>\n",
       "</table>\n",
       "</div>"
      ],
      "text/plain": [
       "       0_1      1_10     10_100    100_1000  1000_10000  10000_100000  \\\n",
       "num    0.0  4.000000  64.000000  162.000000  365.000000    431.000000   \n",
       "proba  0.0  0.003777   0.060434    0.152975    0.344665      0.406988   \n",
       "\n",
       "       100000_inf  \n",
       "num     33.000000  \n",
       "proba    0.031161  "
      ]
     },
     "execution_count": 39,
     "metadata": {},
     "output_type": "execute_result"
    }
   ],
   "source": [
    "log_time = log_time.transpose()\n",
    "log_time"
   ]
  },
  {
   "cell_type": "code",
   "execution_count": 40,
   "metadata": {},
   "outputs": [
    {
     "data": {
      "image/png": "[encoded data removed]",
      "text/plain": [
       "<Figure size 720x360 with 1 Axes>"
      ]
     },
     "metadata": {
      "needs_background": "light"
     },
     "output_type": "display_data"
    }
   ],
   "source": [
    "plt.figure(figsize=(10,5)) \n",
    "labels = log_time.columns\n",
    "proba_values = log_time[labels].iloc[1]\n",
    "width = 0.35\n",
    "plt.bar(labels, proba_values);\n"
   ]
  },
  {
   "cell_type": "markdown",
   "metadata": {},
   "source": [
    "То, что нужно!"
   ]
  }
 ],
 "metadata": {
  "kernelspec": {
   "display_name": "Python 3",
   "language": "python",
   "name": "python3"
  },
  "language_info": {
   "codemirror_mode": {
    "name": "ipython",
    "version": 3
   },
   "file_extension": ".py",
   "mimetype": "text/x-python",
   "name": "python",
   "nbconvert_exporter": "python",
   "pygments_lexer": "ipython3",
   "version": "3.7.4"
  }
 },
 "nbformat": 4,
 "nbformat_minor": 2
}
